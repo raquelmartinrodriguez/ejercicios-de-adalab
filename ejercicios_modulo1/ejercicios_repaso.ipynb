{
 "cells": [
  {
   "cell_type": "markdown",
   "metadata": {},
   "source": [
    "## Ejercicios Listas "
   ]
  },
  {
   "cell_type": "markdown",
   "metadata": {},
   "source": [
    "1. Crear una lista: Crea una lista con cinco colores diferentes."
   ]
  },
  {
   "cell_type": "code",
   "execution_count": 1,
   "metadata": {},
   "outputs": [],
   "source": [
    "colores = ['rojo', 'verde', 'amarillo', 'azul', 'naranja']"
   ]
  },
  {
   "cell_type": "markdown",
   "metadata": {},
   "source": [
    "2. Acceder a elementos: Accede al tercer elemento de la lista de colores."
   ]
  },
  {
   "cell_type": "code",
   "execution_count": 2,
   "metadata": {},
   "outputs": [
    {
     "data": {
      "text/plain": [
       "'amarillo'"
      ]
     },
     "execution_count": 2,
     "metadata": {},
     "output_type": "execute_result"
    }
   ],
   "source": [
    "colores[2]"
   ]
  },
  {
   "cell_type": "code",
   "execution_count": 3,
   "metadata": {},
   "outputs": [
    {
     "name": "stdout",
     "output_type": "stream",
     "text": [
      "['rojo', 'verde', 'amarillo', 'azul', 'naranja']\n"
     ]
    }
   ],
   "source": [
    "print (colores)"
   ]
  },
  {
   "cell_type": "markdown",
   "metadata": {},
   "source": [
    "3. Modificar elementos: Cambia el segundo color de la lista por otro de tu elección."
   ]
  },
  {
   "cell_type": "code",
   "execution_count": 4,
   "metadata": {},
   "outputs": [
    {
     "name": "stdout",
     "output_type": "stream",
     "text": [
      "['rojo', 'morado', 'amarillo', 'azul', 'naranja']\n"
     ]
    }
   ],
   "source": [
    "colores.pop (1)\n",
    "colores.insert (1, 'morado')\n",
    "print (colores)"
   ]
  },
  {
   "cell_type": "markdown",
   "metadata": {},
   "source": [
    "4. Agregar elementos: Agrega dos colores nuevos a la lista."
   ]
  },
  {
   "cell_type": "code",
   "execution_count": 5,
   "metadata": {},
   "outputs": [
    {
     "name": "stdout",
     "output_type": "stream",
     "text": [
      "['rojo', 'morado', 'amarillo', 'azul', 'naranja', 'lila', 'gris']\n"
     ]
    }
   ],
   "source": [
    "colores.append ('lila')\n",
    "colores.append ('gris')\n",
    "print (colores)"
   ]
  },
  {
   "cell_type": "markdown",
   "metadata": {},
   "source": [
    "5. Eliminar elementos: Elimina el cuarto color de la lista."
   ]
  },
  {
   "cell_type": "code",
   "execution_count": 6,
   "metadata": {},
   "outputs": [],
   "source": [
    "colores.remove('azul')"
   ]
  },
  {
   "cell_type": "code",
   "execution_count": 7,
   "metadata": {},
   "outputs": [
    {
     "name": "stdout",
     "output_type": "stream",
     "text": [
      "['rojo', 'morado', 'amarillo', 'naranja', 'lila', 'gris']\n"
     ]
    }
   ],
   "source": [
    "print (colores)"
   ]
  },
  {
   "cell_type": "markdown",
   "metadata": {},
   "source": [
    "6. Longitud de la lista: Encuentra la longitud de la lista de colores."
   ]
  },
  {
   "cell_type": "code",
   "execution_count": 8,
   "metadata": {},
   "outputs": [
    {
     "data": {
      "text/plain": [
       "6"
      ]
     },
     "execution_count": 8,
     "metadata": {},
     "output_type": "execute_result"
    }
   ],
   "source": [
    "len (colores)"
   ]
  },
  {
   "cell_type": "markdown",
   "metadata": {},
   "source": [
    "7.Ordenar la lista: Ordena la lista de colores en orden alfabético."
   ]
  },
  {
   "cell_type": "code",
   "execution_count": 9,
   "metadata": {},
   "outputs": [],
   "source": [
    "colores.sort()"
   ]
  },
  {
   "cell_type": "code",
   "execution_count": 10,
   "metadata": {},
   "outputs": [
    {
     "name": "stdout",
     "output_type": "stream",
     "text": [
      "['amarillo', 'gris', 'lila', 'morado', 'naranja', 'rojo']\n"
     ]
    }
   ],
   "source": [
    "print (colores)"
   ]
  },
  {
   "cell_type": "markdown",
   "metadata": {},
   "source": [
    "8. Listas anidadas: Crea una lista de dos sublistas, cada una con tres nombres de frutas."
   ]
  },
  {
   "cell_type": "code",
   "execution_count": 11,
   "metadata": {},
   "outputs": [
    {
     "name": "stdout",
     "output_type": "stream",
     "text": [
      "['mango', 'melocotón', 'piña', ['limón', 'naranja', 'mandarina']]\n"
     ]
    }
   ],
   "source": [
    "frutas1 = ['mango', 'melocotón', 'piña']\n",
    "frutas2 = ['limón', 'naranja', 'mandarina']\n",
    "frutas1.append (frutas2)\n",
    "print (frutas1)"
   ]
  },
  {
   "cell_type": "markdown",
   "metadata": {},
   "source": [
    "9. Concatenar listas: Concatena las dos sublistas en una sola lista de frutas."
   ]
  },
  {
   "cell_type": "code",
   "execution_count": 12,
   "metadata": {},
   "outputs": [
    {
     "name": "stdout",
     "output_type": "stream",
     "text": [
      "['mango', 'melocotón', 'piña', 'limón', 'naranja', 'mandarina']\n"
     ]
    }
   ],
   "source": [
    "frutas1 = ['mango', 'melocotón', 'piña']\n",
    "frutas2 = ['limón', 'naranja', 'mandarina']\n",
    "frutas1.extend (frutas2)\n",
    "print (frutas1)"
   ]
  },
  {
   "cell_type": "markdown",
   "metadata": {},
   "source": [
    "10. Repetir elementos: Repite la lista de frutas tres veces para obtener una lista más larga."
   ]
  },
  {
   "cell_type": "code",
   "execution_count": 13,
   "metadata": {},
   "outputs": [
    {
     "name": "stdout",
     "output_type": "stream",
     "text": [
      "['mango', 'melocotón', 'piña', 'limón', 'naranja', 'mandarina', 'mango', 'melocotón', 'piña', 'limón', 'naranja', 'mandarina']\n"
     ]
    }
   ],
   "source": [
    "frutas1.extend(frutas1)\n",
    "print (frutas1)\n"
   ]
  },
  {
   "cell_type": "code",
   "execution_count": 14,
   "metadata": {},
   "outputs": [
    {
     "name": "stdout",
     "output_type": "stream",
     "text": [
      "['mango', 'melocotón', 'piña', 'limón', 'naranja', 'mandarina', 'mango', 'melocotón', 'piña', 'limón', 'naranja', 'mandarina', 'mango', 'melocotón', 'piña', 'limón', 'naranja', 'mandarina', 'mango', 'melocotón', 'piña', 'limón', 'naranja', 'mandarina']\n"
     ]
    }
   ],
   "source": [
    "frutas1.extend (frutas1)\n",
    "print (frutas1)"
   ]
  },
  {
   "cell_type": "code",
   "execution_count": 15,
   "metadata": {},
   "outputs": [
    {
     "name": "stdout",
     "output_type": "stream",
     "text": [
      "['mango', 'melocotón', 'piña', 'limón', 'naranja', 'mandarina', 'mango', 'melocotón', 'piña', 'limón', 'naranja', 'mandarina', 'mango', 'melocotón', 'piña', 'limón', 'naranja', 'mango', 'piña', 'naranja']\n"
     ]
    }
   ],
   "source": [
    "frutas1.pop (-1)\n",
    "frutas1.pop (-2)\n",
    "frutas1.pop (-3)\n",
    "frutas1.pop (-4)\n",
    "#no entiendo porqué borra siempre mandarina\n",
    "print (frutas1)"
   ]
  },
  {
   "cell_type": "markdown",
   "metadata": {},
   "source": [
    "11. Acceder a la primera lista de frutas: Crea una variable llamada primera_lista y asigna la primera lista de frutas a esta variable."
   ]
  },
  {
   "cell_type": "code",
   "execution_count": 16,
   "metadata": {},
   "outputs": [
    {
     "name": "stdout",
     "output_type": "stream",
     "text": [
      "['mango', 'melocotón', 'piña']\n"
     ]
    }
   ],
   "source": [
    "\n",
    "primera_lista = frutas1 [0:3]\n",
    "print (primera_lista)\n"
   ]
  },
  {
   "cell_type": "markdown",
   "metadata": {},
   "source": [
    "12. Acceder a la segunda lista de frutas: Crea una variable llamada segunda_lista y asigna la segunda lista de frutas a esta variable."
   ]
  },
  {
   "cell_type": "code",
   "execution_count": 17,
   "metadata": {},
   "outputs": [
    {
     "name": "stdout",
     "output_type": "stream",
     "text": [
      "['limón', 'naranja', 'mandarina']\n"
     ]
    }
   ],
   "source": [
    "segunda_lista = frutas1 [3:6]\n",
    "print (segunda_lista)"
   ]
  },
  {
   "cell_type": "markdown",
   "metadata": {},
   "source": [
    "13. Acceder a la primera fruta de la primera lista: Crea una variable llamada primera_fruta y asigna la primera fruta de la primera lista de frutas a esta variable."
   ]
  },
  {
   "cell_type": "code",
   "execution_count": 18,
   "metadata": {},
   "outputs": [
    {
     "name": "stdout",
     "output_type": "stream",
     "text": [
      "mango\n"
     ]
    }
   ],
   "source": [
    "primera_fruta = primera_lista [0]\n",
    "print (primera_fruta)"
   ]
  },
  {
   "cell_type": "markdown",
   "metadata": {},
   "source": [
    "14. Acceder a la última fruta de la segunda lista: Crea una variable llamada ultima_fruta y asigna la última fruta de la segunda lista de frutas a esta variable."
   ]
  },
  {
   "cell_type": "code",
   "execution_count": 19,
   "metadata": {},
   "outputs": [
    {
     "name": "stdout",
     "output_type": "stream",
     "text": [
      "mandarina\n"
     ]
    }
   ],
   "source": [
    "ultima_fruta = segunda_lista [-1]\n",
    "print (ultima_fruta)"
   ]
  },
  {
   "cell_type": "markdown",
   "metadata": {},
   "source": [
    "15. Acceder a la segunda fruta de la primera lista: Crea una variable llamada segunda_fruta y asigna la segunda fruta de la primera lista de frutas a esta variable."
   ]
  },
  {
   "cell_type": "code",
   "execution_count": 20,
   "metadata": {},
   "outputs": [
    {
     "name": "stdout",
     "output_type": "stream",
     "text": [
      "melocotón\n"
     ]
    }
   ],
   "source": [
    "segunda_fruta = primera_lista [1]\n",
    "print (segunda_fruta)"
   ]
  },
  {
   "cell_type": "markdown",
   "metadata": {},
   "source": [
    "16. Acceder a la última fruta de la primera lista: Crea una variable llamada ultima_fruta_primera_lista y asigna la última fruta de la primera lista de frutas a esta variable."
   ]
  },
  {
   "cell_type": "code",
   "execution_count": 21,
   "metadata": {},
   "outputs": [
    {
     "name": "stdout",
     "output_type": "stream",
     "text": [
      "piña\n"
     ]
    }
   ],
   "source": [
    "ultima_fruta_primera_lista = primera_lista [-1]\n",
    "print (ultima_fruta_primera_lista)"
   ]
  },
  {
   "cell_type": "markdown",
   "metadata": {},
   "source": [
    "17. Acceder a la longitud de la segunda lista de frutas: Crea una variable llamada longitud_segunda_lista y asigna la longitud (número de elementos) de la segunda lista de frutas a esta variable."
   ]
  },
  {
   "cell_type": "code",
   "execution_count": 22,
   "metadata": {},
   "outputs": [
    {
     "name": "stdout",
     "output_type": "stream",
     "text": [
      "la segunda lista contiene 3 elementos\n"
     ]
    }
   ],
   "source": [
    "longitud_segunda_lista = len (segunda_lista)\n",
    "print (f'la segunda lista contiene {longitud_segunda_lista} elementos')"
   ]
  },
  {
   "cell_type": "markdown",
   "metadata": {},
   "source": [
    "18. Acceder a una porción de la segunda lista (slicing): Crea una variable llamada porcion_segunda_lista y asigna los dos primeros elementos de la segunda lista de frutas a esta variable utilizando el slicing."
   ]
  },
  {
   "cell_type": "code",
   "execution_count": 23,
   "metadata": {},
   "outputs": [
    {
     "name": "stdout",
     "output_type": "stream",
     "text": [
      "['limón', 'naranja']\n"
     ]
    }
   ],
   "source": [
    "porcion_segunda_lista = segunda_lista [0:2]\n",
    "print (porcion_segunda_lista)"
   ]
  },
  {
   "cell_type": "markdown",
   "metadata": {},
   "source": [
    "19. Cambiar la segunda fruta de la segunda lista: Cambia la segunda fruta de la segunda lista de frutas a \"ciruela\"."
   ]
  },
  {
   "cell_type": "code",
   "execution_count": 24,
   "metadata": {},
   "outputs": [
    {
     "name": "stdout",
     "output_type": "stream",
     "text": [
      "['limón', 'ciruela', 'mandarina']\n"
     ]
    }
   ],
   "source": [
    "segunda_lista. pop (1)\n",
    "segunda_lista.insert (1, 'ciruela')\n",
    "print (segunda_lista)"
   ]
  },
  {
   "cell_type": "markdown",
   "metadata": {},
   "source": [
    "20. Agregar una nueva fruta a la primera lista: Agrega una nueva fruta, \"kiwi\", a la primera lista de frutas."
   ]
  },
  {
   "cell_type": "code",
   "execution_count": 25,
   "metadata": {},
   "outputs": [
    {
     "name": "stdout",
     "output_type": "stream",
     "text": [
      "['mango', 'melocotón', 'piña', 'kiwi']\n"
     ]
    }
   ],
   "source": [
    "primera_lista.append ('kiwi')\n",
    "print (primera_lista)"
   ]
  },
  {
   "cell_type": "markdown",
   "metadata": {},
   "source": [
    "## Ejercicios Tuplas"
   ]
  },
  {
   "cell_type": "markdown",
   "metadata": {},
   "source": [
    "1. Crear una tupla: Crea una tupla llamada mi_tupla con algunos elementos de tu elección."
   ]
  },
  {
   "cell_type": "code",
   "execution_count": 26,
   "metadata": {},
   "outputs": [],
   "source": [
    "mi_tupla = ('tomate', 'pimiento', 'coliflor', 'apio', 'cebolla')"
   ]
  },
  {
   "cell_type": "markdown",
   "metadata": {},
   "source": [
    "2. Acceder al primer elemento: Accede al primer elemento de mi_tupla y guárdalo en una variable llamada primer_elemento."
   ]
  },
  {
   "cell_type": "code",
   "execution_count": 27,
   "metadata": {},
   "outputs": [
    {
     "name": "stdout",
     "output_type": "stream",
     "text": [
      "tomate\n"
     ]
    }
   ],
   "source": [
    "primer_elemento = mi_tupla [0]\n",
    "print (primer_elemento)"
   ]
  },
  {
   "cell_type": "markdown",
   "metadata": {},
   "source": [
    "3. Acceder al último elemento: Accede al último elemento de mi_tupla y guárdalo en una variable llamada ultimo_elemento."
   ]
  },
  {
   "cell_type": "code",
   "execution_count": 28,
   "metadata": {},
   "outputs": [
    {
     "name": "stdout",
     "output_type": "stream",
     "text": [
      "cebolla\n"
     ]
    }
   ],
   "source": [
    "ultimo_elemento = mi_tupla [-1]\n",
    "print (ultimo_elemento)"
   ]
  },
  {
   "cell_type": "markdown",
   "metadata": {},
   "source": [
    "4. Acceder a un rango de elementos: Utilizando el slicing, crea una nueva tupla llamada sub_tupla que contenga los elementos desde el segundo hasta el cuarto de mi_tupla."
   ]
  },
  {
   "cell_type": "code",
   "execution_count": 29,
   "metadata": {},
   "outputs": [
    {
     "name": "stdout",
     "output_type": "stream",
     "text": [
      "('pimiento', 'coliflor', 'apio')\n"
     ]
    }
   ],
   "source": [
    "sub_tupla = mi_tupla [1:4]\n",
    "print (sub_tupla)"
   ]
  },
  {
   "cell_type": "markdown",
   "metadata": {},
   "source": [
    "5. Concatenar dos tuplas: Crea otra tupla llamada otra_tupla y concaténala con mi_tupla para formar una nueva tupla llamada tupla_concatenada."
   ]
  },
  {
   "cell_type": "code",
   "execution_count": 30,
   "metadata": {},
   "outputs": [
    {
     "name": "stdout",
     "output_type": "stream",
     "text": [
      "('tomate', 'pimiento', 'coliflor', 'apio', 'cebolla', 'cebolleta', 'calabaza', 'calabacín', 'puerro')\n"
     ]
    }
   ],
   "source": [
    "otra_tupla = ('cebolleta', 'calabaza', 'calabacín', 'puerro')\n",
    "tupla_concatenada = mi_tupla + otra_tupla\n",
    "print (tupla_concatenada)"
   ]
  },
  {
   "cell_type": "markdown",
   "metadata": {},
   "source": [
    "6. Encontrar la longitud: Encuentra la longitud de tupla_concatenada y guárdala en una variable llamada longitud."
   ]
  },
  {
   "cell_type": "code",
   "execution_count": 31,
   "metadata": {},
   "outputs": [
    {
     "name": "stdout",
     "output_type": "stream",
     "text": [
      "9\n"
     ]
    }
   ],
   "source": [
    "longitud = len (tupla_concatenada)\n",
    "print (longitud)"
   ]
  },
  {
   "cell_type": "markdown",
   "metadata": {},
   "source": [
    "7. Buscar un elemento: Verifica si un elemento específico está presente en mi_tupla, por ejemplo, \"manzana\"."
   ]
  },
  {
   "cell_type": "code",
   "execution_count": 32,
   "metadata": {},
   "outputs": [
    {
     "data": {
      "text/plain": [
       "False"
      ]
     },
     "execution_count": 32,
     "metadata": {},
     "output_type": "execute_result"
    }
   ],
   "source": [
    "'manzana' in mi_tupla"
   ]
  },
  {
   "cell_type": "markdown",
   "metadata": {},
   "source": [
    "8. Contar elementos: Cuenta cuántas veces aparece un elemento específico en mi_tupla, por ejemplo, cuántas veces aparece \"pera\"."
   ]
  },
  {
   "cell_type": "code",
   "execution_count": 33,
   "metadata": {},
   "outputs": [
    {
     "data": {
      "text/plain": [
       "1"
      ]
     },
     "execution_count": 33,
     "metadata": {},
     "output_type": "execute_result"
    }
   ],
   "source": [
    "mi_tupla.count ('coliflor')"
   ]
  },
  {
   "cell_type": "markdown",
   "metadata": {},
   "source": [
    "9. Desempaquetar una tupla: Si tienes una tupla de nombres (nombre, apellido), desempaqueta los valores en dos variables separadas."
   ]
  },
  {
   "cell_type": "code",
   "execution_count": 34,
   "metadata": {},
   "outputs": [],
   "source": [
    "tupla_nombres = ('Raquel Martin', 'Sandra García', 'Marta Lopez')\n",
    "lista_nombres = list (tupla_nombres)\n",
    "#no entiendo\n"
   ]
  },
  {
   "cell_type": "markdown",
   "metadata": {},
   "source": [
    "10. Convertir una lista en tupla: Crea una lista de números y conviértela en una tupla llamada tupla_desde_lista."
   ]
  },
  {
   "cell_type": "code",
   "execution_count": 35,
   "metadata": {},
   "outputs": [
    {
     "name": "stdout",
     "output_type": "stream",
     "text": [
      "(1, 3, 5, 7, 9)\n"
     ]
    }
   ],
   "source": [
    "lista_numeros = [1,3,5,7,9]\n",
    "tupla_desde_lista = tuple (lista_numeros)\n",
    "print (tupla_desde_lista)"
   ]
  },
  {
   "cell_type": "markdown",
   "metadata": {},
   "source": [
    "## Ejercicios diccionarios"
   ]
  },
  {
   "cell_type": "markdown",
   "metadata": {},
   "source": [
    "1. Crear un diccionario: Crea un diccionario vacío llamado mi_diccionario con una key llamada apellido y que su value sea López."
   ]
  },
  {
   "cell_type": "code",
   "execution_count": 36,
   "metadata": {},
   "outputs": [],
   "source": [
    "mi_diccionario = {'apellido':'López'}"
   ]
  },
  {
   "cell_type": "markdown",
   "metadata": {},
   "source": [
    "2. Agregar elementos: Agrega una clave-valor al diccionario mi_diccionario. Por ejemplo, agrega la clave \"nombre\" con el valor \"Juan\"."
   ]
  },
  {
   "cell_type": "code",
   "execution_count": 37,
   "metadata": {},
   "outputs": [
    {
     "name": "stdout",
     "output_type": "stream",
     "text": [
      "{'apellido': 'López', 'nombre': 'Juan'}\n"
     ]
    }
   ],
   "source": [
    "nuevo_elemento = {'nombre':'Juan'}\n",
    "mi_diccionario.update (nuevo_elemento)\n",
    "print (mi_diccionario)"
   ]
  },
  {
   "cell_type": "markdown",
   "metadata": {},
   "source": [
    "3. Acceder a un valor: Accede al valor correspondiente a la clave \"nombre\" en mi_diccionario."
   ]
  },
  {
   "cell_type": "code",
   "execution_count": 38,
   "metadata": {},
   "outputs": [
    {
     "data": {
      "text/plain": [
       "'Juan'"
      ]
     },
     "execution_count": 38,
     "metadata": {},
     "output_type": "execute_result"
    }
   ],
   "source": [
    "mi_diccionario. get ('nombre')"
   ]
  },
  {
   "cell_type": "markdown",
   "metadata": {},
   "source": [
    "4. Modificar un valor: Cambia el valor de la clave \"nombre\" a \"Ana\"."
   ]
  },
  {
   "cell_type": "code",
   "execution_count": 39,
   "metadata": {},
   "outputs": [
    {
     "name": "stdout",
     "output_type": "stream",
     "text": [
      "{'apellido': 'López', 'nombre': 'Juan'}\n"
     ]
    },
    {
     "data": {
      "text/plain": [
       "'Juan'"
      ]
     },
     "execution_count": 39,
     "metadata": {},
     "output_type": "execute_result"
    }
   ],
   "source": [
    "print (mi_diccionario)\n",
    "mi_diccionario.pop ('nombre')"
   ]
  },
  {
   "cell_type": "code",
   "execution_count": 40,
   "metadata": {},
   "outputs": [
    {
     "name": "stdout",
     "output_type": "stream",
     "text": [
      "{'apellido': 'López', 'nombre': 'Ana'}\n"
     ]
    }
   ],
   "source": [
    "nuevo_nombre = {'nombre': 'Ana'}\n",
    "mi_diccionario.update (nuevo_nombre)\n",
    "print (mi_diccionario)"
   ]
  },
  {
   "cell_type": "markdown",
   "metadata": {},
   "source": [
    "5. Eliminar un elemento: Elimina la clave \"nombre\" de mi_diccionario."
   ]
  },
  {
   "cell_type": "code",
   "execution_count": 41,
   "metadata": {},
   "outputs": [
    {
     "name": "stdout",
     "output_type": "stream",
     "text": [
      "{'apellido': 'López', 'nombre': 'Ana'}\n"
     ]
    }
   ],
   "source": [
    "print (mi_diccionario)"
   ]
  },
  {
   "cell_type": "code",
   "execution_count": 42,
   "metadata": {},
   "outputs": [
    {
     "name": "stdout",
     "output_type": "stream",
     "text": [
      "{'apellido': 'López'}\n"
     ]
    }
   ],
   "source": [
    "eliminar = mi_diccionario.pop ('nombre')\n",
    "print (mi_diccionario)"
   ]
  },
  {
   "cell_type": "markdown",
   "metadata": {},
   "source": [
    "6. Verificar existencia: Verifica si la clave \"apellido\" existe en mi_diccionario."
   ]
  },
  {
   "cell_type": "code",
   "execution_count": 50,
   "metadata": {},
   "outputs": [
    {
     "name": "stdout",
     "output_type": "stream",
     "text": [
      "¿está la variable apelllido en mi diccionario? True\n"
     ]
    }
   ],
   "source": [
    "print ('¿está la variable apelllido en mi diccionario?','apellido' in mi_diccionario)"
   ]
  },
  {
   "cell_type": "markdown",
   "metadata": {},
   "source": [
    "7. Obtener todas las claves: Obtén una lista de todas las claves en mi_diccionario."
   ]
  },
  {
   "cell_type": "code",
   "execution_count": 55,
   "metadata": {},
   "outputs": [
    {
     "name": "stdout",
     "output_type": "stream",
     "text": [
      "dict_keys(['apellido'])\n"
     ]
    }
   ],
   "source": [
    "claves_diccionario = mi_diccionario.keys()\n",
    "print (claves_diccionario)"
   ]
  },
  {
   "cell_type": "markdown",
   "metadata": {},
   "source": [
    "8. Obtener todos los valores: Obtén una lista de todos los valores en mi_diccionario."
   ]
  },
  {
   "cell_type": "code",
   "execution_count": 56,
   "metadata": {},
   "outputs": [
    {
     "name": "stdout",
     "output_type": "stream",
     "text": [
      "dict_values(['López'])\n"
     ]
    }
   ],
   "source": [
    "valores_diccionario = mi_diccionario.values ()\n",
    "print (valores_diccionario)"
   ]
  },
  {
   "cell_type": "markdown",
   "metadata": {},
   "source": [
    "## Ejercicios Sentencias de control"
   ]
  },
  {
   "cell_type": "markdown",
   "metadata": {},
   "source": [
    "1. Clasificación de triángulos: Pide al usuario que ingrese las longitudes de tres lados de un triángulo. Determina si el triángulo es equilátero (todos los lados iguales), isósceles (dos lados iguales), o escaleno (ningún lado igual)."
   ]
  },
  {
   "cell_type": "code",
   "execution_count": 59,
   "metadata": {},
   "outputs": [
    {
     "name": "stdout",
     "output_type": "stream",
     "text": [
      "El triángulo es ESCALENO\n"
     ]
    }
   ],
   "source": [
    "lado1 = int (input ('indique la longitud del primer lado'))\n",
    "lado2 = int (input ('indique la longitud del segundo lado'))\n",
    "lado3 = int (input ('indique la longitud del tercer lado'))\n",
    "\n",
    "if lado1 == lado2 and lado1 == lado3 and lado2 == lado3:\n",
    "    print ('El triángulo es EQUILÁTERO')\n",
    "elif lado1 == lado2 or lado1 == lado3 or lado2 == lado3:\n",
    "    print ('EL triángulo es ISÓSCELES')\n",
    "else:\n",
    "    print ('El triángulo es ESCALENO')"
   ]
  },
  {
   "cell_type": "markdown",
   "metadata": {},
   "source": [
    "2. Conversión de temperatura: Crea un programa que permita al usuario convertir temperaturas entre Celsius y Fahrenheit. Pide al usuario que ingrese la temperatura y la unidad (C o F) y realiza la conversión."
   ]
  },
  {
   "cell_type": "code",
   "execution_count": 71,
   "metadata": {},
   "outputs": [
    {
     "name": "stdout",
     "output_type": "stream",
     "text": [
      "la temperatura en grados Celsius es: 25.0\n"
     ]
    }
   ],
   "source": [
    "temperatura = int (input('indique la temperatura'))\n",
    "unidad = (input ('indique la unidad: C para grados Celsius o F para Fahrenheit'))\n",
    "option_f = 'f'\n",
    "option_c = 'c'\n",
    "\n",
    "if unidad == option_c:\n",
    "    print (f'la temperatura en grados Fahrenheit es: {(temperatura * 9/5) + 32}')\n",
    "elif unidad == option_f:\n",
    "    print (f'la temperatura en grados Celsius es: {(temperatura - 32) * 5/9}')\n",
    "\n"
   ]
  },
  {
   "cell_type": "markdown",
   "metadata": {},
   "source": [
    "3. Cajero automático: Simula un cajero automático que permite a los usuarios verificar su saldo, depositar y retirar dinero. El programa debe mantener un registro del saldo actual."
   ]
  },
  {
   "cell_type": "code",
   "execution_count": 76,
   "metadata": {},
   "outputs": [
    {
     "name": "stdout",
     "output_type": "stream",
     "text": [
      "1465\n"
     ]
    }
   ],
   "source": [
    "ingreso = int (input ('¿cuánto dinero quiere ingresar?'))\n",
    "retirar_dinero = int (input ('¿cuánto dineor quiere retirar?'))\n",
    "saldo_actual = 1500\n",
    "verificar_saldo = saldo_actual + ingreso - retirar_dinero\n",
    "print (verificar_saldo)"
   ]
  },
  {
   "cell_type": "markdown",
   "metadata": {},
   "source": [
    "4. Calculadora de descuento: Pide al usuario que ingrese el precio original de un producto y el porcentaje de descuento. Calcula el precio final después del descuento y muestra el ahorro."
   ]
  },
  {
   "cell_type": "code",
   "execution_count": 2,
   "metadata": {},
   "outputs": [
    {
     "name": "stdout",
     "output_type": "stream",
     "text": [
      "El precio sin descuento de su producto es 50 euros\n",
      "se le aplica un 60 por ciento de descuento\n",
      "El precio final de su producto es 20.0\n"
     ]
    }
   ],
   "source": [
    "precio_original = int (input ('indique el precio original del producto'))\n",
    "print (f'El precio sin descuento de su producto es {precio_original} euros')\n",
    "porcentaje_descuento = int (input ('indique el porcentaje de descuento que se le aplica'))\n",
    "print (f'se le aplica un {porcentaje_descuento} por ciento de descuento')\n",
    "descuento_total = precio_original * porcentaje_descuento/100\n",
    "precio_final = precio_original - descuento_total\n",
    "print (f'El precio final de su producto es {precio_final}')\n",
    "\n"
   ]
  },
  {
   "cell_type": "markdown",
   "metadata": {},
   "source": [
    "5. Cálculo de promedio de calificaciones: Pide al usuario que ingrese una serie de calificaciones y calcule el promedio. También muestra si el estudiante aprobó (promedio mayor o igual a 5) o no. Pistas:\n",
    "    - Solicita al usuario que ingrese 4 notas de calificaciones que quiere promediar.\n",
    "    - Convierte el string en una lista de números.\n",
    "    - Calcula el promedio de las calificaciones ingresadas.\n",
    "    - Muestra el resultado del promedio con dos decimales.\n",
    "    - Determina si el estudiante aprobó o no. Un estudiante se considera aprobado si su promedio es mayor o igual a 5."
   ]
  },
  {
   "cell_type": "code",
   "execution_count": 20,
   "metadata": {},
   "outputs": [
    {
     "name": "stdout",
     "output_type": "stream",
     "text": [
      "la primera calificación es 2\n",
      "la segunda calificación es 9\n",
      "la tercera calificación es 6\n",
      "la cuarta calificación es 2\n",
      "la media de sus calificaciones es 4.75\n",
      "lo siento, no has aprobado\n"
     ]
    }
   ],
   "source": [
    "nota1 = int (input ('indique la primera calificación'))\n",
    "print (f'la primera calificación es {nota1}')\n",
    "nota2 = int (input ('indique la primera calificación'))\n",
    "print (f'la segunda calificación es {nota2}')\n",
    "nota3= int (input ('indique la primera calificación'))\n",
    "print (f'la tercera calificación es {nota3}')\n",
    "nota4 = int (input ('indique la primera calificación'))\n",
    "print (f'la cuarta calificación es {nota4}')\n",
    "\n",
    "notas = (nota1, nota2, nota3, nota4)\n",
    "lista_notas = list (notas)\n",
    "\n",
    "media_calificaciones = (nota1 + nota2 + nota3 + nota4)/4\n",
    "round (media_calificaciones,1)\n",
    "\n",
    "print (f'la media de sus calificaciones es {media_calificaciones}')\n",
    "\n",
    "if media_calificaciones >=5:\n",
    "    print ('felicidades, has aprobado')\n",
    "else:\n",
    "    print ('lo siento, no has aprobado')\n"
   ]
  },
  {
   "cell_type": "code",
   "execution_count": 19,
   "metadata": {},
   "outputs": [
    {
     "name": "stdout",
     "output_type": "stream",
     "text": [
      "[3, 5, 1, 6]\n",
      "3.8\n",
      "suspendida\n"
     ]
    }
   ],
   "source": [
    "#otra solución sería:\n",
    "notas1=input(\"dime una lista de 4 números, separados por comas\")\n",
    "lista_notas1= notas1.split(\",\")\n",
    "lista_notas1 = [int(lista_notas1[0]),int(lista_notas1[1]),int(lista_notas1[2]),int(lista_notas1[3])]\n",
    "print(lista_notas1)\n",
    "media = sum(lista_notas1)/len(lista_notas1)\n",
    "print(round(media,1))\n",
    "if media >= 5:\n",
    "     print(\"Aprobada\")\n",
    "else: \n",
    "     print ('suspendida')"
   ]
  },
  {
   "cell_type": "markdown",
   "metadata": {},
   "source": [
    "6. Generador de contraseñas seguras: Crea un programa que genere una contraseña segura. El usuario debe especificar la longitud deseada y si desea incluir números, letras mayúsculas, minúsculas y caracteres especiales. Pistas:\n",
    "    - Pregunta al usuario cuántos caracteres debe tener la contraseña que desea generar.\n",
    "    - Luego, consulta al usuario si quiere incluir números, letras mayúsculas, letras minúsculas y caracteres especiales en su contraseña.\n",
    "    - Basado en las respuestas del usuario, crea una contraseña segura aleatoria que cumple con los criterios especificados.\n",
    "    - Muestra la contraseña generada como resultado.\n",
    "    - Este ejercicio le permite al usuario personalizar la fortaleza y complejidad de su contraseña según sus preferencias, lo que es esencial para mantener la seguridad en línea."
   ]
  },
  {
   "cell_type": "code",
   "execution_count": null,
   "metadata": {},
   "outputs": [],
   "source": [
    "long_contraseña = int (input ('¿cuántos caracteres quiere que tenga su contraseña?'))\n",
    "caracteres_contraseña = int (input ('¿desea incluir números, letras mayúsculas, minúsculas y caracteres especiales?'))"
   ]
  }
 ],
 "metadata": {
  "kernelspec": {
   "display_name": "base",
   "language": "python",
   "name": "python3"
  },
  "language_info": {
   "codemirror_mode": {
    "name": "ipython",
    "version": 3
   },
   "file_extension": ".py",
   "mimetype": "text/x-python",
   "name": "python",
   "nbconvert_exporter": "python",
   "pygments_lexer": "ipython3",
   "version": "3.9.7"
  }
 },
 "nbformat": 4,
 "nbformat_minor": 2
}
