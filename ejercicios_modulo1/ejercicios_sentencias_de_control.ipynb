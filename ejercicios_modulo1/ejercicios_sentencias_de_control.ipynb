{
 "cells": [
  {
   "cell_type": "markdown",
   "metadata": {},
   "source": [
    "# Ejercicios  \n",
    "\n",
    "1. Crea las siguientes variables:\n",
    "\n",
    "  - `var1` sea un número con el valor `8`.\n",
    "\n",
    "  - `var2` sea un número con el valor `2`.\n",
    "\n",
    "  - `var3` sea un número con el valor `8`."
   ]
  },
  {
   "cell_type": "code",
   "execution_count": 21,
   "metadata": {},
   "outputs": [],
   "source": [
    "var1 = 8\n",
    "var2 = 2\n",
    "var3 = 8"
   ]
  },
  {
   "cell_type": "markdown",
   "metadata": {},
   "source": [
    "2. Comprueba si `var1` es mayor que 6, y si es así imprime `¡Es enorme!`.\n"
   ]
  },
  {
   "cell_type": "code",
   "execution_count": 9,
   "metadata": {},
   "outputs": [
    {
     "name": "stdout",
     "output_type": "stream",
     "text": [
      "¿Es var1 mayor que 6? True\n",
      "¡Es enorme!\n"
     ]
    }
   ],
   "source": [
    "# ¿es var1 mayor que 6?\n",
    "print ('¿Es var1 mayor que 6?', var1 > 6)\n",
    "print ('¡Es enorme!')"
   ]
  },
  {
   "cell_type": "markdown",
   "metadata": {},
   "source": [
    "3. Comprueba si `var2` es mayor que 6, y si es así imprime `¡Es enorme también!`."
   ]
  },
  {
   "cell_type": "code",
   "execution_count": 23,
   "metadata": {},
   "outputs": [
    {
     "name": "stdout",
     "output_type": "stream",
     "text": [
      "¿es var2 mayor que 6? False\n",
      "es un número pequeño\n"
     ]
    }
   ],
   "source": [
    "print ('¿es var2 mayor que 6?', var2 > 6) \n",
    "\n",
    "if var2 > 6:\n",
    "    print ('!Es enorme también!')\n",
    "else:\n",
    "    print ('es un número pequeño')\n",
    "\n"
   ]
  },
  {
   "cell_type": "markdown",
   "metadata": {},
   "source": [
    "4. Comprueba si `var3` es mayor que 6, y si es así imprime `¡Es enorme!` seguido por `¡Pero de verdad!` en otra línea (deberéis tener dos *print*)."
   ]
  },
  {
   "cell_type": "code",
   "execution_count": 25,
   "metadata": {},
   "outputs": [
    {
     "name": "stdout",
     "output_type": "stream",
     "text": [
      "¿es var3 mayor que 6? True\n",
      "!Es enorme!\n",
      "¡Pero de verdad!\n"
     ]
    }
   ],
   "source": [
    "print ('¿es var3 mayor que 6?', var3 > 6)\n",
    "\n",
    "if var3 > 6:\n",
    "    print ('!Es enorme!')\n",
    "    print ('¡Pero de verdad!')"
   ]
  },
  {
   "cell_type": "markdown",
   "metadata": {},
   "source": [
    "5. Comprueba si `var1` es igual que `var3`, y si es así imprime `Son iguales.`."
   ]
  },
  {
   "cell_type": "code",
   "execution_count": 27,
   "metadata": {},
   "outputs": [
    {
     "name": "stdout",
     "output_type": "stream",
     "text": [
      "¿es var1 igual que var3? True\n",
      "!son iguales!\n"
     ]
    }
   ],
   "source": [
    "print ('¿es var1 igual que var3?', var1 == var3)\n",
    "\n",
    "if var1 == var3:\n",
    "    print ('!son iguales!')"
   ]
  },
  {
   "cell_type": "markdown",
   "metadata": {},
   "source": [
    "6. Comprueba si `var1` es igual que `var2`, y si es así imprime `Son iguales.`\n"
   ]
  },
  {
   "cell_type": "code",
   "execution_count": 28,
   "metadata": {},
   "outputs": [
    {
     "name": "stdout",
     "output_type": "stream",
     "text": [
      "¿es var1 igual que var3? False\n",
      "son diferentes\n"
     ]
    }
   ],
   "source": [
    "print ('¿es var1 igual que var3?', var1 == var2)\n",
    "\n",
    "if var1 == var2:\n",
    "    print ('!son iguales!')\n",
    "else:\n",
    "    print ('son diferentes')"
   ]
  },
  {
   "cell_type": "markdown",
   "metadata": {},
   "source": [
    "7. Comprueba si `var1` es mayor o igual que `var2`, y si es así calcula la diferencia entre `var1` y `var2`, guardala en la variable `dif`, e imprime `'La diferencia es',dif`. "
   ]
  },
  {
   "cell_type": "code",
   "execution_count": 29,
   "metadata": {},
   "outputs": [
    {
     "name": "stdout",
     "output_type": "stream",
     "text": [
      "¿es var1 mayor o igual que var2? True\n",
      "la diferencia entre var1 y var2 es 6\n"
     ]
    }
   ],
   "source": [
    "print ('¿es var1 mayor o igual que var2?', var1 >= var2)\n",
    "\n",
    "if var1 >= var2:\n",
    "    dif = var1 - var2\n",
    "    print ('la diferencia entre var1 y var2 es', dif)"
   ]
  },
  {
   "cell_type": "markdown",
   "metadata": {},
   "source": [
    "8. Comprueba si `var1` es mayor que 6, y si es así imprime `¡Es enorme!`. Si no es así imprime `Es chiquitín.`.\n"
   ]
  },
  {
   "cell_type": "code",
   "execution_count": 30,
   "metadata": {},
   "outputs": [
    {
     "name": "stdout",
     "output_type": "stream",
     "text": [
      "¿es var1 mayor que 6? True\n",
      "¡Es enorme!\n"
     ]
    }
   ],
   "source": [
    "print ('¿es var1 mayor que 6?', var1 > 6)\n",
    "if var1 > 6:\n",
    "    print ('¡Es enorme!')\n",
    "else:\n",
    "    print ('¡es chiquitín!')"
   ]
  },
  {
   "cell_type": "markdown",
   "metadata": {},
   "source": [
    "9. Comprueba si `var2` es mayor que 6, y si es así imprime `¡Es enorme también!`. Si no es así imprime `Es chiquitín también.`."
   ]
  },
  {
   "cell_type": "code",
   "execution_count": 31,
   "metadata": {},
   "outputs": [
    {
     "name": "stdout",
     "output_type": "stream",
     "text": [
      "¿es var1 mayor que 6? False\n",
      "¡es chiquitín!\n"
     ]
    }
   ],
   "source": [
    "print ('¿es var1 mayor que 6?', var2 > 6)\n",
    "if var2 > 6:\n",
    "    print ('¡Es enorme también!')\n",
    "else:\n",
    "    print ('¡es chiquitín!')"
   ]
  },
  {
   "cell_type": "markdown",
   "metadata": {},
   "source": [
    "10. Comprueba si `var1` es igual a `var3`, y si es así imprime `Son iguales.` Si no es así imprime `Son distintos.`"
   ]
  },
  {
   "cell_type": "code",
   "execution_count": 32,
   "metadata": {},
   "outputs": [
    {
     "name": "stdout",
     "output_type": "stream",
     "text": [
      "¿es var1 igual que var3? False\n",
      "son distintos\n"
     ]
    }
   ],
   "source": [
    "print ('¿es var1 igual que var3?', var1 == var2)\n",
    "\n",
    "if var1 == var2:\n",
    "    print ('!son iguales!')\n",
    "else:\n",
    "    print ('son distintos')"
   ]
  },
  {
   "cell_type": "markdown",
   "metadata": {},
   "source": [
    "11. Escribe un programa para una empresa que tiene salas de juegos para todas las edades y quiere calcular de forma automática el precio que debe cobrar a sus clientes por entrar. El programa debe preguntar al usuario:\n",
    "- La edad del cliente. \n",
    "    - Las condiciones que tendremos que chequear: \n",
    "\n",
    "      - Si el cliente es menor de 4 años puede entrar gratis, \n",
    "\n",
    "      - Si tiene entre 4 y 18 años debe pagar 5€ y \n",
    "\n",
    "      - Si es mayor de 18 años, 10€."
   ]
  },
  {
   "cell_type": "code",
   "execution_count": 60,
   "metadata": {},
   "outputs": [
    {
     "name": "stdout",
     "output_type": "stream",
     "text": [
      "19\n",
      "el precio de su entrada es de 10 euros\n"
     ]
    }
   ],
   "source": [
    "edad_cliente = int(input('¿qué edad tiene?'))\n",
    "\n",
    "print (edad_cliente)\n",
    "\n",
    "if edad_cliente < 4:\n",
    "    print ('entrada gratuita')\n",
    "elif edad_cliente < 18:\n",
    "        print ('el precio de su entrada es de 5 euros')\n",
    "else:\n",
    "    print ('el precio de su entrada es de 10 euros')\n"
   ]
  },
  {
   "cell_type": "markdown",
   "metadata": {},
   "source": [
    "12. Inicia la varible `ahorros` con un valor de `5`. Crea un bucle while que mientras los ahorros sean igual o menor que `20` imprima por pantalla la cantidad de ahorros que tenemos, y añádele `5` más. Cuando la variable ahorros supere el valor de 20 el bucle deberá parar. "
   ]
  },
  {
   "cell_type": "code",
   "execution_count": null,
   "metadata": {},
   "outputs": [],
   "source": [
    "ahorros = 5\n",
    "limite_ahorros = 20\n",
    "\n",
    "while ahorros <=20:\n",
    "    print (f'la cantidad de ahorros que tenemos es? {ahorros}')\n",
    "\n",
    "ahorros -= 6"
   ]
  },
  {
   "cell_type": "markdown",
   "metadata": {},
   "source": [
    "13. Escribe un programa que convierta grados Celsius a grados Fahrenheit o viceversa, según la elección del usuario. Para eso tendrás que preguntar: \n",
    "\n",
    "  - Desde que unidades va a convertir la temperatura, Celsius o Fahrenheit. \n",
    "\n",
    "  - Cuál es valor de la temperatura que quiere convertir. "
   ]
  },
  {
   "cell_type": "code",
   "execution_count": null,
   "metadata": {},
   "outputs": [],
   "source": []
  },
  {
   "cell_type": "markdown",
   "metadata": {},
   "source": [
    "14.  Crea un programa que calcule el impuesto sobre la renta de una persona basado en su ingreso anual y su estado civil (soltero o casado). Para eso deberás: \n",
    "\n",
    "  - Solicitar al usuario su ingreso anual.\n",
    "\n",
    "  - Preguntar al usuario su estado civil, permitiendo dos opciones: \"soltero\" (S) o \"casado\" (C).\n",
    "\n",
    "  - Calcular el impuesto sobre la renta utilizando las siguientes reglas:\n",
    "\n",
    "    - Si el estado civil es \"soltero\" (S):\n",
    "\n",
    "      - Si el ingreso anual es menor o igual a $9,875, el impuesto es el 10% del ingreso anual.\n",
    "\n",
    "      - Si el ingreso anual está entre $9,876 y $40,125, el impuesto es el 10% de los primeros $9,875 más el 12% de la cantidad que excede los $9,875.\n",
    "     \n",
    "\n",
    "    - Si el estado civil es \"casado\" (C):\n",
    "    \n",
    "      - Si el ingreso anual es menor o igual a $19,850, el impuesto es el 10% del ingreso anual.\n",
    "\n",
    "      - Si el ingreso anual está entre $19,851 y $80,250, el impuesto es el 10% de los primeros $19,850 más el 12% de la cantidad que excede los $19,850."
   ]
  },
  {
   "cell_type": "code",
   "execution_count": 76,
   "metadata": {},
   "outputs": [],
   "source": [
    "#revisar\n",
    "\n",
    "ingreso_anual = int (input ('¿cuáles son tus ingresos anuales?'))\n",
    "estado_civil = input ('S=soltero, C=casado')\n",
    "\n",
    "if estado_civil.upper() == \"S\":\n",
    "    if ingreso_anual <= 9875:\n",
    "        impuesto = ingreso_anual * 0,10\n",
    "        print ('el impuesto que tiene que pagar es', impuesto)\n",
    "    elif ingreso_anual <= 40125:\n",
    "        rango1= 9875 * 0.10\n",
    "        rango2= (ingreso_anual - 9875) * 0.12\n",
    "        impuesto = rango1 + rango2\n",
    "\n",
    "\n",
    "elif estado_civil.upper() == 'C':\n",
    "    if ingreso_anual <= 9875:\n",
    "        impuesto = ingreso_anual * 0,10\n",
    "        print ('el impuesto es', impuesto )\n",
    "    elif ingreso_anual <= 4125:\n",
    "        rango1= 9875 * 0.10\n",
    "        rango2= (ingreso_anual - 9875) * 0.12\n",
    "        impuesto = rango1 + rango2\n",
    "\n",
    "else:\n",
    "    print ('error')\n",
    "\n",
    " \n",
    "\n",
    "\n",
    "\n"
   ]
  },
  {
   "cell_type": "markdown",
   "metadata": {},
   "source": [
    "15. Crea un programa que evalúe el nivel de contaminación del aire en función de la concentración de partículas en suspensión (PM2.5) en microgramos por metro cúbico (µg/m³). Para eso deberás: \n",
    "\n",
    "  - Solicita al usuario que ingrese la concentración de PM2.5 en el aire en µg/m³. El usuario debe ingresar un valor numérico.\n",
    "\n",
    "  - Evalua el nivel de contaminación del aire según la siguiente escala:\n",
    "\n",
    "    - Si la concentración de PM2.5 es menor o igual a 12 µg/m³, el aire se considera \"Excelente\".\n",
    "\n",
    "    - Si la concentración de PM2.5 está entre 13 µg/m³ y 35 µg/m³, el aire se considera \"Bueno\".\n",
    "\n",
    "    - Si la concentración de PM2.5 está entre 36 µg/m³ y 55 µg/m³, el aire se considera \"Aceptable\".\n",
    "\n",
    "    - Si la concentración de PM2.5 está entre 56 µg/m³ y 150 µg/m³, el aire se considera \"No Saludable para Grupos Sensibles\".\n",
    "\n",
    "    - Si la concentración de PM2.5 es mayor a 150 µg/m³, el aire se considera \"No Saludable\".\n",
    "\n",
    "  - Muestra un mensaje indicando el estado de la calidad del aire. Por ejemplo, si la concentración de PM2.5 es 25 µg/m³, el programa debe mostrar: \"La calidad del aire es Buena\".\n",
    "\n",
    "  -  Además, si la concentración de PM2.5 está en la categoría \"No Saludable para Grupos Sensibles\" o \"No Saludable\", el programa debe advertir al usuario sobre los posibles efectos en la salud.\n",
    "\n",
    "  - Si la concentración ingresada por el usuario es negativa o no es un número válido, el programa debe mostrar un mensaje de error."
   ]
  },
  {
   "cell_type": "code",
   "execution_count": null,
   "metadata": {},
   "outputs": [],
   "source": []
  }
 ],
 "metadata": {
  "kernelspec": {
   "display_name": "base",
   "language": "python",
   "name": "python3"
  },
  "language_info": {
   "codemirror_mode": {
    "name": "ipython",
    "version": 3
   },
   "file_extension": ".py",
   "mimetype": "text/x-python",
   "name": "python",
   "nbconvert_exporter": "python",
   "pygments_lexer": "ipython3",
   "version": "3.9.12"
  }
 },
 "nbformat": 4,
 "nbformat_minor": 2
}
