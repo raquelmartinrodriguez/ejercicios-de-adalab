{
 "cells": [
  {
   "cell_type": "markdown",
   "metadata": {},
   "source": [
    "**Ejercicio año bisiesto**"
   ]
  },
  {
   "cell_type": "code",
   "execution_count": 6,
   "metadata": {},
   "outputs": [
    {
     "name": "stdout",
     "output_type": "stream",
     "text": [
      "El año 2014 no es bisiesto\n"
     ]
    }
   ],
   "source": [
    "\n",
    "anyo = int(input(\"Indica el año a comprobar\"))\n",
    "\n",
    "if (anyo % 4 == 0 and anyo % 100 != 0) or (anyo % 400 == 0):\n",
    "    print(f\"El año {anyo} es bisiesto\")\n",
    "\n",
    "else:\n",
    "    print(f\"El año {anyo} no es bisiesto\")\n"
   ]
  },
  {
   "cell_type": "markdown",
   "metadata": {},
   "source": [
    "1. Si el año es uniformemente divisible por 4, vaya al paso 2. De lo contrario, vaya al paso 5.\n",
    "2. Si el año es uniformemente divisible por 100, vaya al paso 3. De lo contrario, vaya al paso 4.\n",
    "3. Si el año es uniformemente divisible por 400, vaya al paso 4. De lo contrario, vaya al paso 5.\n",
    "4. El año es un año bisiesto (tiene 366 días).\n",
    "5. El año no es un año bisiesto (tiene 365 días)."
   ]
  },
  {
   "cell_type": "markdown",
   "metadata": {},
   "source": [
    "**EJERCICIO PAIR LISTAS** \n",
    "17.Encontrar el segundo valor máximo en una lista\n",
    "Descripción: Dada una lista de números, encuentra el segundo valor máximo."
   ]
  },
  {
   "cell_type": "code",
   "execution_count": 12,
   "metadata": {},
   "outputs": [
    {
     "name": "stdout",
     "output_type": "stream",
     "text": [
      "Esta es la lista inicial: [3, 5, 7, 8, 9, 3, 5, 0, 1, 4, 7]\n",
      "Esta es la lista cuando eliminamos el elemento maximo: [3, 5, 7, 8, 3, 5, 0, 1, 4, 7]\n",
      "Esta es el segundo elemento maximo: 8\n"
     ]
    }
   ],
   "source": [
    "lista_bonus4 = [3, 5, 7, 8, 9, 3, 5, 0, 1, 4, 7]\n",
    "print(\"Esta es la lista inicial:\", lista_bonus4)\n",
    "#eliminamos el elemento maximo de la lista\n",
    "lista_bonus4.pop(lista_bonus4.index(max(lista_bonus4)))\n",
    "print(\"Esta es la lista cuando eliminamos el elemento maximo:\", lista_bonus4)\n",
    "print(\"Esta es el segundo elemento maximo:\", max(lista_bonus4))"
   ]
  },
  {
   "cell_type": "code",
   "execution_count": 7,
   "metadata": {},
   "outputs": [],
   "source": [
    "lista_bonus4 = [3, 5, 7, 8, 9, 3, 5, 0, 1, 4, 7]"
   ]
  },
  {
   "cell_type": "code",
   "execution_count": 8,
   "metadata": {},
   "outputs": [
    {
     "data": {
      "text/plain": [
       "9"
      ]
     },
     "execution_count": 8,
     "metadata": {},
     "output_type": "execute_result"
    }
   ],
   "source": [
    "max(lista_bonus4)"
   ]
  },
  {
   "cell_type": "code",
   "execution_count": 9,
   "metadata": {},
   "outputs": [
    {
     "data": {
      "text/plain": [
       "4"
      ]
     },
     "execution_count": 9,
     "metadata": {},
     "output_type": "execute_result"
    }
   ],
   "source": [
    "lista_bonus4.index(max(lista_bonus4))"
   ]
  },
  {
   "cell_type": "code",
   "execution_count": 10,
   "metadata": {},
   "outputs": [
    {
     "data": {
      "text/plain": [
       "9"
      ]
     },
     "execution_count": 10,
     "metadata": {},
     "output_type": "execute_result"
    }
   ],
   "source": [
    "lista_bonus4.pop(4)\n"
   ]
  },
  {
   "cell_type": "code",
   "execution_count": 11,
   "metadata": {},
   "outputs": [
    {
     "data": {
      "text/plain": [
       "8"
      ]
     },
     "execution_count": 11,
     "metadata": {},
     "output_type": "execute_result"
    }
   ],
   "source": [
    "max(lista_bonus4)"
   ]
  },
  {
   "cell_type": "code",
   "execution_count": 13,
   "metadata": {},
   "outputs": [],
   "source": [
    "lista_bonus4.remove(max(lista_bonus4))"
   ]
  },
  {
   "cell_type": "code",
   "execution_count": 14,
   "metadata": {},
   "outputs": [
    {
     "data": {
      "text/plain": [
       "7"
      ]
     },
     "execution_count": 14,
     "metadata": {},
     "output_type": "execute_result"
    }
   ],
   "source": [
    "max(lista_bonus4)"
   ]
  },
  {
   "cell_type": "markdown",
   "metadata": {},
   "source": [
    "**Pair Programming While**\n",
    "\n",
    "2.Juego de adivinanza utilizando un bucle while\n",
    "Descripción: Crea un juego de adivinanza en el que el jugador tiene que adivinar un número secreto (tendrá que ser entre el 0 y el 10). Utiliza un bucle while para permitir múltiples intentos hasta que el jugador adivine correctamente."
   ]
  },
  {
   "cell_type": "code",
   "execution_count": 27,
   "metadata": {},
   "outputs": [],
   "source": [
    "import random \n",
    "#añadimos a nuestra herramientas de python, esta herramienta específica."
   ]
  },
  {
   "cell_type": "markdown",
   "metadata": {},
   "source": [
    "**Cuando importamos una libreria, se genera al principio del jupyter.**\n",
    "\n",
    "-Cada vez que vayamos a utilizarlo, hay que hacer un import. (Ponerla en la encimera)"
   ]
  },
  {
   "cell_type": "code",
   "execution_count": 18,
   "metadata": {},
   "outputs": [
    {
     "data": {
      "text/plain": [
       "2"
      ]
     },
     "execution_count": 18,
     "metadata": {},
     "output_type": "execute_result"
    }
   ],
   "source": [
    "random.randint(1,10)\n",
    "#elije numeros aleatorios en un rango"
   ]
  },
  {
   "cell_type": "code",
   "execution_count": 25,
   "metadata": {},
   "outputs": [
    {
     "data": {
      "text/plain": [
       "'papel'"
      ]
     },
     "execution_count": 25,
     "metadata": {},
     "output_type": "execute_result"
    }
   ],
   "source": [
    "lista = [\"piedra\",\"papel\",\"tijeras\"]\n",
    "\n",
    "random.choice(lista)\n",
    "#elegir de un contenedor que le pasemos, una lista de los rangos"
   ]
  },
  {
   "cell_type": "code",
   "execution_count": 28,
   "metadata": {},
   "outputs": [
    {
     "name": "stdout",
     "output_type": "stream",
     "text": [
      "Sige intentando\n",
      "Sige intentando\n",
      "Lo has adivinado\n"
     ]
    }
   ],
   "source": [
    "adivinar = random.randint(1,3)\n",
    "\n",
    "opt = True\n",
    "\n",
    "while opt == True:\n",
    "    mi_numero = int(input(\"Adivina un número del 1 al 10\"))\n",
    "\n",
    "    if mi_numero == adivinar:\n",
    "        print(\"Lo has adivinado\")\n",
    "        opt = False\n",
    "        \n",
    "    else:\n",
    "        print(\"Sige intentando\")"
   ]
  },
  {
   "cell_type": "markdown",
   "metadata": {},
   "source": [
    "**Cuando utilizamos un bucles while?**\n",
    "\n",
    "Cuando no sabemos cuanto tiempo va a tardar en adivinar."
   ]
  },
  {
   "cell_type": "markdown",
   "metadata": {},
   "source": [
    "**Ejercicios repaso While**\n",
    "1.Contador Regresivo: Crea un programa que pida al usuario ingresar un número y luego cuente hacia abajo desde ese número hasta llegar a cero utilizando un bucle while."
   ]
  },
  {
   "cell_type": "code",
   "execution_count": 31,
   "metadata": {},
   "outputs": [
    {
     "name": "stdout",
     "output_type": "stream",
     "text": [
      "5\n",
      "---------\n",
      "4\n",
      "---------\n",
      "3\n",
      "---------\n",
      "2\n",
      "---------\n",
      "1\n",
      "---------\n",
      "0\n",
      "---------\n"
     ]
    }
   ],
   "source": [
    "numero = int(input(\"desde qué numero quieres empezar la cuenta\"))\n",
    "\n",
    "while numero >= 0:\n",
    "    \n",
    "    print(numero)\n",
    "    print (\"---------\")\n",
    "\n",
    "    numero -=1"
   ]
  },
  {
   "cell_type": "code",
   "execution_count": 34,
   "metadata": {},
   "outputs": [
    {
     "name": "stdout",
     "output_type": "stream",
     "text": [
      "Sige intentando\n",
      "2\n",
      "Sige intentando\n",
      "1\n",
      "Sige intentando\n",
      "no te quedan vidas\n",
      "0\n"
     ]
    }
   ],
   "source": [
    "adivinar = random.randint(1,50)\n",
    "\n",
    "opt = True\n",
    "\n",
    "vidas = 3\n",
    "\n",
    "\n",
    "while opt == True:\n",
    "    mi_numero = int(input(\"Adivina un número del 1 al 10\"))\n",
    "    vidas -= 1\n",
    "    if mi_numero == adivinar: \n",
    "        print(\"Lo has adivinado\")\n",
    "        opt = False\n",
    "        \n",
    "    else:\n",
    "        print(\"Sige intentando\")\n",
    "    \n",
    "    if vidas==0:\n",
    "        print(\"no te quedan vidas\")\n",
    "        opt = False\n",
    "    \n",
    "    print(vidas)"
   ]
  },
  {
   "cell_type": "code",
   "execution_count": 39,
   "metadata": {},
   "outputs": [
    {
     "name": "stdout",
     "output_type": "stream",
     "text": [
      "Sige intentando\n",
      "pista 5 es más pequenyo\n",
      "Te quedan2\n",
      "-------------------\n",
      "Sige intentando\n",
      "pista 3 es más pequenyo\n",
      "Te quedan1\n",
      "-------------------\n",
      "Sige intentando\n",
      "pista 5 es más pequenyo\n",
      "no te quedan vidas\n",
      "Te quedan0\n",
      "-------------------\n"
     ]
    }
   ],
   "source": [
    "adivinar = random.randint(1,50)\n",
    "\n",
    "opt = True\n",
    "\n",
    "vidas = 3\n",
    "\n",
    "\n",
    "while opt == True:\n",
    "    mi_numero = int(input(\"Adivina un número del 1 al 10\"))\n",
    "    vidas -= 1\n",
    "    if mi_numero == adivinar: \n",
    "        print(\"Lo has adivinado\")\n",
    "        opt = False\n",
    "        \n",
    "    else:\n",
    "        print(\"Sige intentando\")\n",
    "        if mi_numero > adivinar:\n",
    "            print(f\"pista,{mi_numero} es más grande\")\n",
    "        else:\n",
    "            print(\"pista\", mi_numero, \"es más pequenyo\")\n",
    "    \n",
    "    if vidas==0:\n",
    "        print(\"no te quedan vidas\")\n",
    "        opt = False\n",
    "    \n",
    "    print(f\"Te quedan{vidas}\")\n",
    "    print(\"-------------------\")"
   ]
  },
  {
   "cell_type": "markdown",
   "metadata": {},
   "source": [
    "**Ejercicio Cesar**\n",
    "\n",
    "adivinar = random.randint(1, 50)\n",
    "\n",
    "option = True\n",
    "\n",
    "vidas = 3\n",
    "\n",
    "while option == True:\n",
    "    mi_numero = int(input(\"Adivina un número del 1 al 10\"))\n",
    "    vidas -= 1\n",
    "\n",
    "    if mi_numero == adivinar:\n",
    "        print(\"Lo has adivinado\")\n",
    "        option = False\n",
    "\n",
    "    else:\n",
    "        print(\"Sigue intentando\")\n",
    "        if mi_numero > adivinar:\n",
    "            print(f\"Pista, {mi_numero} es más grande\")\n",
    "        \n",
    "        else:\n",
    "            print(\"Pista \", mi_numero, \" es más pequeño\")\n",
    "\n",
    "    if vidas == 0:\n",
    "        print(\"no te quedan intentos\")\n",
    "        option = False\n",
    "\n",
    "    print(f\"Te quedan {vidas}\")\n",
    "    print(\"............\")"
   ]
  },
  {
   "cell_type": "code",
   "execution_count": null,
   "metadata": {},
   "outputs": [],
   "source": [
    "\n",
    "adivinar = random.randint(1, 50)\n",
    "\n",
    "option = True\n",
    "\n",
    "vidas = 3\n",
    "\n",
    "while option == True:\n",
    "    mi_numero = int(input(\"Adivina un número del 1 al 10\"))\n",
    "    vidas -= 1\n",
    "\n",
    "    if mi_numero == adivinar:\n",
    "        print(\"Lo has adivinado\")\n",
    "        option = False\n",
    "\n",
    "    else:\n",
    "        print(\"Sigue intentando\")\n",
    "        if mi_numero > adivinar:\n",
    "            print(f\"Pista, {mi_numero} es más grande\")\n",
    "        \n",
    "        else:\n",
    "            print(\"Pista \", mi_numero, \" es más pequeño\")\n",
    "\n",
    "    if vidas == 0:\n",
    "        print(\"no te quedan intentos\")\n",
    "        option = False\n",
    "\n",
    "    print(f\"Te quedan {vidas}\")\n",
    "    print(\"............\")"
   ]
  },
  {
   "cell_type": "markdown",
   "metadata": {},
   "source": [
    "**Por qué hay variables que cambian y otras que no?**\n",
    "\n",
    "Los strings en Python son inmutables, lo que significa que una vez que se crea un string, no puede ser modificado. Cada vez que realizas una operación que modifica un string (como reemplazar caracteres, concatenar con otro string, etc.), Python crea un nuevo objeto string en lugar de modificar el original. Esta característica de inmutabilidad es importante por varias razones:\n",
    "\n",
    "Seguridad: La inmutabilidad de los strings ayuda a prevenir cambios accidentales, especialmente cuando los strings se pasan entre diferentes funciones o módulos.\n",
    "Eficiencia: Permite a Python optimizar el uso de memoria y rendimiento. Por ejemplo, Python puede internar strings (reutilizar objetos string inmutables) para ahorrar memoria.\n",
    "Concurrencia: Hace que los strings sean \"thread-safe\", permitiendo que múltiples hilos los accedan sin preocuparse por conflictos de acceso concurrente.\n",
    "Debido a esta inmutabilidad, no tiene sentido \"sobrescribir\" métodos de un objeto string de la misma manera que lo harías con objetos mutables, ya que cualquier operación que modifique un string resultará en la creación de un nuevo objeto string, en lugar de alterar el original.\n",
    "\n",
    "Listas: Mutables\n",
    "Las listas, por otro lado, son mutables. Puedes modificar una lista después de su creación, agregando, eliminando o cambiando elementos. Esta mutabilidad significa que los métodos que operan en listas pueden modificar el objeto lista en sí, en lugar de crear y retornar un nuevo objeto lista cada vez que se realiza una modificación. La capacidad de cambiar el estado de un objeto lista"
   ]
  },
  {
   "cell_type": "code",
   "execution_count": 40,
   "metadata": {},
   "outputs": [],
   "source": [
    "set1 = set()\n",
    "#si va entre parentesis es un set"
   ]
  },
  {
   "cell_type": "code",
   "execution_count": 41,
   "metadata": {},
   "outputs": [
    {
     "data": {
      "text/plain": [
       "set"
      ]
     },
     "execution_count": 41,
     "metadata": {},
     "output_type": "execute_result"
    }
   ],
   "source": [
    "type(set1)"
   ]
  },
  {
   "cell_type": "code",
   "execution_count": 43,
   "metadata": {},
   "outputs": [],
   "source": [
    "set={}\n",
    "#Si va en llaves es un diccionario"
   ]
  },
  {
   "cell_type": "code",
   "execution_count": 44,
   "metadata": {},
   "outputs": [
    {
     "data": {
      "text/plain": [
       "dict"
      ]
     },
     "execution_count": 44,
     "metadata": {},
     "output_type": "execute_result"
    }
   ],
   "source": [
    "type(set)"
   ]
  },
  {
   "cell_type": "code",
   "execution_count": 51,
   "metadata": {},
   "outputs": [],
   "source": [
    "lista = []"
   ]
  },
  {
   "cell_type": "code",
   "execution_count": 57,
   "metadata": {},
   "outputs": [
    {
     "data": {
      "text/plain": [
       "list"
      ]
     },
     "execution_count": 57,
     "metadata": {},
     "output_type": "execute_result"
    }
   ],
   "source": [
    "type(lista)"
   ]
  },
  {
   "cell_type": "code",
   "execution_count": 58,
   "metadata": {},
   "outputs": [],
   "source": [
    "lista.append(7)"
   ]
  },
  {
   "cell_type": "code",
   "execution_count": 60,
   "metadata": {},
   "outputs": [
    {
     "data": {
      "text/plain": [
       "[7]"
      ]
     },
     "execution_count": 60,
     "metadata": {},
     "output_type": "execute_result"
    }
   ],
   "source": [
    "lista"
   ]
  },
  {
   "cell_type": "code",
   "execution_count": 62,
   "metadata": {},
   "outputs": [],
   "source": [
    "import string"
   ]
  },
  {
   "cell_type": "code",
   "execution_count": 63,
   "metadata": {},
   "outputs": [
    {
     "data": {
      "text/plain": [
       "'abcdefghijklmnopqrstuvwxyz'"
      ]
     },
     "execution_count": 63,
     "metadata": {},
     "output_type": "execute_result"
    }
   ],
   "source": [
    "string.ascii_lowercase"
   ]
  },
  {
   "cell_type": "code",
   "execution_count": 64,
   "metadata": {},
   "outputs": [
    {
     "data": {
      "text/plain": [
       "'0123456789'"
      ]
     },
     "execution_count": 64,
     "metadata": {},
     "output_type": "execute_result"
    }
   ],
   "source": [
    "string.digits"
   ]
  },
  {
   "cell_type": "code",
   "execution_count": 67,
   "metadata": {},
   "outputs": [],
   "source": [
    "num =\"1\""
   ]
  },
  {
   "cell_type": "code",
   "execution_count": 66,
   "metadata": {},
   "outputs": [
    {
     "data": {
      "text/plain": [
       "True"
      ]
     },
     "execution_count": 66,
     "metadata": {},
     "output_type": "execute_result"
    }
   ],
   "source": [
    "num.isdigit()"
   ]
  },
  {
   "cell_type": "code",
   "execution_count": null,
   "metadata": {},
   "outputs": [],
   "source": [
    "Cálculo de promedio de calificaciones: Pide al usuario que ingrese una serie de calificaciones y calcule el promedio. También muestra si el estudiante aprobó (promedio mayor o igual a 5) o no. Pistas:\n",
    "Solicita al usuario que ingrese 4 notas de calificaciones que quiere promediar.\n",
    "Convierte el string en una lista de números.\n",
    "Calcula el promedio de las calificaciones ingresadas.\n",
    "Muestra el resultado del promedio con dos decimales.\n",
    "Determina si el estudiante aprobó o no. Un estudiante se considera aprobado si su promedio es mayor o igual a 5."
   ]
  },
  {
   "cell_type": "code",
   "execution_count": 68,
   "metadata": {},
   "outputs": [],
   "source": [
    "notas = input(\"dime 4 notas separadas por comas\")"
   ]
  },
  {
   "cell_type": "code",
   "execution_count": 69,
   "metadata": {},
   "outputs": [
    {
     "name": "stdout",
     "output_type": "stream",
     "text": [
      "1,2,3,4\n"
     ]
    }
   ],
   "source": [
    "print(notas)"
   ]
  },
  {
   "cell_type": "code",
   "execution_count": 73,
   "metadata": {},
   "outputs": [],
   "source": [
    "lista_notas= notas.split(\",\")"
   ]
  },
  {
   "cell_type": "code",
   "execution_count": 76,
   "metadata": {},
   "outputs": [
    {
     "ename": "TypeError",
     "evalue": "unsupported operand type(s) for +: 'int' and 'str'",
     "output_type": "error",
     "traceback": [
      "\u001b[0;31m---------------------------------------------------------------------------\u001b[0m",
      "\u001b[0;31mTypeError\u001b[0m                                 Traceback (most recent call last)",
      "\u001b[0;32m/tmp/ipykernel_3381/3254698176.py\u001b[0m in \u001b[0;36m<module>\u001b[0;34m\u001b[0m\n\u001b[0;32m----> 1\u001b[0;31m \u001b[0msum\u001b[0m\u001b[0;34m(\u001b[0m\u001b[0mlista_notas\u001b[0m\u001b[0;34m)\u001b[0m\u001b[0;34m\u001b[0m\u001b[0;34m\u001b[0m\u001b[0m\n\u001b[0m",
      "\u001b[0;31mTypeError\u001b[0m: unsupported operand type(s) for +: 'int' and 'str'"
     ]
    }
   ],
   "source": [
    "sum(lista_notas)"
   ]
  },
  {
   "cell_type": "code",
   "execution_count": 77,
   "metadata": {},
   "outputs": [
    {
     "name": "stdout",
     "output_type": "stream",
     "text": [
      "['1', '2', '3', '4']\n"
     ]
    }
   ],
   "source": [
    "print(lista_notas)"
   ]
  },
  {
   "cell_type": "code",
   "execution_count": 79,
   "metadata": {},
   "outputs": [
    {
     "data": {
      "text/plain": [
       "True"
      ]
     },
     "execution_count": 79,
     "metadata": {},
     "output_type": "execute_result"
    }
   ],
   "source": [
    "lista_notas[3].isdigit()"
   ]
  },
  {
   "cell_type": "code",
   "execution_count": 80,
   "metadata": {},
   "outputs": [
    {
     "data": {
      "text/plain": [
       "1"
      ]
     },
     "execution_count": 80,
     "metadata": {},
     "output_type": "execute_result"
    }
   ],
   "source": [
    "int(lista_notas[0])"
   ]
  },
  {
   "cell_type": "code",
   "execution_count": 81,
   "metadata": {},
   "outputs": [
    {
     "name": "stdout",
     "output_type": "stream",
     "text": [
      "['1', '2', '3', '4']\n"
     ]
    }
   ],
   "source": [
    "print(lista_notas)"
   ]
  },
  {
   "cell_type": "code",
   "execution_count": 94,
   "metadata": {},
   "outputs": [
    {
     "data": {
      "text/plain": [
       "1"
      ]
     },
     "execution_count": 94,
     "metadata": {},
     "output_type": "execute_result"
    }
   ],
   "source": [
    "lista_notas"
   ]
  },
  {
   "cell_type": "code",
   "execution_count": 95,
   "metadata": {},
   "outputs": [],
   "source": [
    "notas1=input(\"dime una lista de 4 números\")"
   ]
  },
  {
   "cell_type": "code",
   "execution_count": 96,
   "metadata": {},
   "outputs": [
    {
     "data": {
      "text/plain": [
       "'1,2,3,4'"
      ]
     },
     "execution_count": 96,
     "metadata": {},
     "output_type": "execute_result"
    }
   ],
   "source": [
    "notas1"
   ]
  },
  {
   "cell_type": "code",
   "execution_count": 97,
   "metadata": {},
   "outputs": [],
   "source": [
    "lista_notas1= notas1.split(\",\")"
   ]
  },
  {
   "cell_type": "code",
   "execution_count": 98,
   "metadata": {},
   "outputs": [
    {
     "data": {
      "text/plain": [
       "['1', '2', '3', '4']"
      ]
     },
     "execution_count": 98,
     "metadata": {},
     "output_type": "execute_result"
    }
   ],
   "source": [
    "lista_notas1"
   ]
  },
  {
   "cell_type": "code",
   "execution_count": 102,
   "metadata": {},
   "outputs": [
    {
     "name": "stdout",
     "output_type": "stream",
     "text": [
      "[1, 2, 3, 4]\n"
     ]
    }
   ],
   "source": [
    "lista_notas1 = [int(lista_notas1[0]),int(lista_notas1[1]),int(lista_notas1[2]),int(lista_notas1[3])]\n",
    "print(lista_notas1)"
   ]
  },
  {
   "cell_type": "code",
   "execution_count": 103,
   "metadata": {},
   "outputs": [],
   "source": [
    "media = sum(lista_notas1)/len(lista_notas1)"
   ]
  },
  {
   "cell_type": "code",
   "execution_count": 104,
   "metadata": {},
   "outputs": [
    {
     "name": "stdout",
     "output_type": "stream",
     "text": [
      "2.5\n"
     ]
    }
   ],
   "source": [
    "print(round(media,1))"
   ]
  },
  {
   "cell_type": "code",
   "execution_count": 105,
   "metadata": {},
   "outputs": [
    {
     "name": "stdout",
     "output_type": "stream",
     "text": [
      "Aprobada\n"
     ]
    }
   ],
   "source": [
    "if media >= 2.5:\n",
    "     print(\"Aprobada\")"
   ]
  }
 ],
 "metadata": {
  "kernelspec": {
   "display_name": "base",
   "language": "python",
   "name": "python3"
  },
  "language_info": {
   "codemirror_mode": {
    "name": "ipython",
    "version": 3
   },
   "file_extension": ".py",
   "mimetype": "text/x-python",
   "name": "python",
   "nbconvert_exporter": "python",
   "pygments_lexer": "ipython3",
   "version": "3.9.7"
  }
 },
 "nbformat": 4,
 "nbformat_minor": 2
}
