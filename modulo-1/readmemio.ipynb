{
 "cells": [
  {
   "cell_type": "code",
   "execution_count": null,
   "metadata": {},
   "outputs": [],
   "source": [
    "# proyecto-da-promo-G-modulo-1-team-1\n",
    "\n",
    "# Descripción del proyecto\n",
    "\n",
    "Nuestro proyecto consta de tres juegos populares: \n",
    "    - Preguntas y respuestas de geografía: se presentan al usuario una serie de preguntas relacionadas con geografía. El usuario debe responder 6 preguntas correctamente para superar el juego. Tiene 10 oportunidades en total. \n",
    "    - Piedra, papel o tijera: El usuario debe elegir una de las tres opciones. La máquina elegirá también una al azar. El ganador será en cada caso: 'papel' gana a 'piedra'; 'tijera' gana a 'papel'; 'piedra' gana a tijera.\n",
    "    - ahorcado: El objetivo del juego es adivinar una palabra en el menor número de intentos posibles. Primero se deben marcar tantas rayas como letras tenga la palabra pensada. Los jugadores tendrán que ir diciendo letras para formar la palabra. Tendrán un número limitado de intentos.\n",
    "\n",
    "# Autoras del proyecto\n",
    "\n",
    "Inés Arano, Laura Mora, Laura Génesis y Raquel Martín."
   ]
  }
 ],
 "metadata": {
  "language_info": {
   "name": "python"
  }
 },
 "nbformat": 4,
 "nbformat_minor": 2
}
