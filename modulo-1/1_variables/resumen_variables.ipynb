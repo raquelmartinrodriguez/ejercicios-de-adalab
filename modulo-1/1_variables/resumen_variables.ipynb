{
 "cells": [
  {
   "cell_type": "markdown",
   "metadata": {},
   "source": [
    "#¿qué hemos aprndido hoy?\n",
    "\n",
    "##Tipos de variables\n",
    "- string\n",
    "- numeros enteros (int)\n",
    "- números decimales (float)\n",
    "- booleanos (true o false)\n",
    "\n",
    "##Operador de asignación\n",
    "- =\n",
    "\n",
    "##Operadores de comparación\n",
    "- <\n",
    "- >\n",
    "- <=\n",
    "- >=\n",
    "-!=\n",
    "- ==\n",
    "AND Y OR nos permiten unir varias comparaciones\n",
    "\n",
    "##Operadores algebraicos\n",
    "- +\n",
    "- -\n",
    "- /\n",
    "- //\n",
    "- %\n",
    "- *\n",
    "- **\n",
    "\n",
    "##Métodos de strings\n",
    "- upper .upper()\n",
    "- lower .lower()\n",
    "- capitalize (pone la primera letra en mayus)\n",
    "- title (pone las primeras letras de cada palabra de un texto en mayus)\n",
    "- swapcase\n",
    "- strip\n",
    "- split (convierte en lista)\n",
    "- replace\n",
    "- join (lo contrario que split, une en un string)\n",
    "- find"
   ]
  }
 ],
 "metadata": {
  "language_info": {
   "name": "python"
  }
 },
 "nbformat": 4,
 "nbformat_minor": 2
}
