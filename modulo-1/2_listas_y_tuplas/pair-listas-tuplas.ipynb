{
 "cells": [
  {
   "cell_type": "markdown",
   "metadata": {},
   "source": [
    "## EJERCICIOS PAIR PROGRAMMING - LISTAS Y TUPLAS ## "
   ]
  },
  {
   "cell_type": "markdown",
   "metadata": {},
   "source": [
    "### EJERCICIOS DE LISTAS ###"
   ]
  },
  {
   "cell_type": "code",
   "execution_count": 1,
   "metadata": {},
   "outputs": [
    {
     "name": "stdout",
     "output_type": "stream",
     "text": [
      "[2, 4, 6, 8, 2, 4, 6, 8]\n"
     ]
    }
   ],
   "source": [
    "# 1-Duplicar elementos de una lista\n",
    "# Descripción: Dada una lista de números, duplica cada elemento en la lista\n",
    "# Dada la siguiente lista el output esperado es:\n",
    "lista = [2, 4, 6, 8]\n",
    "lista2 = [2, 4, 6, 8]\n",
    "lista.extend(lista2)\n",
    "print(lista)"
   ]
  },
  {
   "cell_type": "code",
   "execution_count": 2,
   "metadata": {},
   "outputs": [
    {
     "name": "stdout",
     "output_type": "stream",
     "text": [
      "[1, 2, 3, 4, 5, 6]\n"
     ]
    }
   ],
   "source": [
    "# 2- Combinar dos listas\n",
    "# Descripción: Dadas dos listas, crea una nueva lista que contenga todos los elementos de ambas listas. \n",
    "lista1 = [1, 2, 3]\n",
    "lista2 = [4, 5, 6]\n",
    "lista1.extend(lista2)\n",
    "print(lista1)"
   ]
  },
  {
   "cell_type": "code",
   "execution_count": 3,
   "metadata": {},
   "outputs": [
    {
     "name": "stdout",
     "output_type": "stream",
     "text": [
      "21\n"
     ]
    }
   ],
   "source": [
    "# 3- Calcular la suma de una lista de números\n",
    "# Descripción: Dada una lista de números, calcula la suma de todos los elementos.\n",
    "lista1\n",
    "lista_suma=(1+2+3+4+5+6)\n",
    "print(lista_suma)"
   ]
  },
  {
   "cell_type": "code",
   "execution_count": 4,
   "metadata": {},
   "outputs": [
    {
     "data": {
      "text/plain": [
       "6"
      ]
     },
     "execution_count": 4,
     "metadata": {},
     "output_type": "execute_result"
    }
   ],
   "source": [
    "# 4 -Encontrar el valor máximo en una lista\n",
    "# Descripción: Dada una lista de números, encuentra el valor máximo.\n",
    "max(lista1)"
   ]
  },
  {
   "cell_type": "code",
   "execution_count": 5,
   "metadata": {},
   "outputs": [
    {
     "data": {
      "text/plain": [
       "6"
      ]
     },
     "execution_count": 5,
     "metadata": {},
     "output_type": "execute_result"
    }
   ],
   "source": [
    "# 5 -Calcular la longitud de una lista\n",
    "# Descripción: Dada una lista, calcula la cantidad de elementos que contiene.\n",
    "len(lista1)"
   ]
  },
  {
   "cell_type": "code",
   "execution_count": 6,
   "metadata": {},
   "outputs": [
    {
     "data": {
      "text/plain": [
       "1"
      ]
     },
     "execution_count": 6,
     "metadata": {},
     "output_type": "execute_result"
    }
   ],
   "source": [
    "# 6 - Encontrar el índice de un elemento en una lista\n",
    "# Descripción: Dada una lista y un valor objetivo, encuentra el índice del primer elemento que coincida con el valor objetivo.\n",
    "lista_nueva = [1,2,3,4,5,6,3,2,1,4]\n",
    "lista_nueva.index(2)\n"
   ]
  },
  {
   "cell_type": "code",
   "execution_count": 7,
   "metadata": {},
   "outputs": [
    {
     "data": {
      "text/plain": [
       "2"
      ]
     },
     "execution_count": 7,
     "metadata": {},
     "output_type": "execute_result"
    }
   ],
   "source": [
    "# 7 - Contar ocurrencias de un elemento en una lista\n",
    "# Descripción: Dada una lista y un valor objetivo, cuenta cuántas veces aparece el valor objetivo en la lista.\n",
    "lista_nueva.count(3)"
   ]
  },
  {
   "cell_type": "code",
   "execution_count": 8,
   "metadata": {},
   "outputs": [
    {
     "name": "stdout",
     "output_type": "stream",
     "text": [
      "[3, 4, 5]\n"
     ]
    }
   ],
   "source": [
    "# 8 - Obtener una sublista de una lista\n",
    "# Descripción: Dada una lista, crea una nueva lista que contenga los elementos desde el índice 2 hasta el índice 5 (sin incluirlo)\n",
    "lista1\n",
    "lista_duda=lista1[2:5] \n",
    "print(lista_duda)"
   ]
  },
  {
   "cell_type": "code",
   "execution_count": 9,
   "metadata": {},
   "outputs": [
    {
     "name": "stdout",
     "output_type": "stream",
     "text": [
      "[1, 2, 3, 4, 5, 6, 3, 2, 1, 4]\n"
     ]
    }
   ],
   "source": [
    "# 9 - Obtener el último elemento de una lista\n",
    "#Descripción: Dada una lista, obtén el último elemento.\n",
    "print(lista_nueva)"
   ]
  },
  {
   "cell_type": "code",
   "execution_count": 10,
   "metadata": {},
   "outputs": [
    {
     "name": "stdout",
     "output_type": "stream",
     "text": [
      "4\n"
     ]
    }
   ],
   "source": [
    "print(lista_nueva[-1])"
   ]
  },
  {
   "cell_type": "code",
   "execution_count": 11,
   "metadata": {},
   "outputs": [],
   "source": [
    "# 10 - Mismo ejercicio anterior"
   ]
  },
  {
   "cell_type": "code",
   "execution_count": 12,
   "metadata": {},
   "outputs": [
    {
     "name": "stdout",
     "output_type": "stream",
     "text": [
      "[1, 2, 3, 4, 5, 6, 3, 2, 1, 4]\n"
     ]
    }
   ],
   "source": [
    "# 11 - Obtener una sublista de una lista\n",
    "# Descripción: Dada una lista, obtén una sublista que contenga los elementos desde el índice 1 hasta el índice 3 (sin incluirlo).\n",
    "print(lista_nueva)\n",
    "sub_lista=lista_nueva.copy()"
   ]
  },
  {
   "cell_type": "code",
   "execution_count": 13,
   "metadata": {},
   "outputs": [
    {
     "name": "stdout",
     "output_type": "stream",
     "text": [
      "[1, 2, 3, 4, 5, 6, 3, 2, 1, 4]\n"
     ]
    },
    {
     "data": {
      "text/plain": [
       "[2, 3]"
      ]
     },
     "execution_count": 13,
     "metadata": {},
     "output_type": "execute_result"
    }
   ],
   "source": [
    "print(sub_lista)\n",
    "sub_lista[1:3]"
   ]
  },
  {
   "cell_type": "code",
   "execution_count": 14,
   "metadata": {},
   "outputs": [
    {
     "name": "stdout",
     "output_type": "stream",
     "text": [
      "['Chilindrin', 'Mimi', 'Goose', 'Oti']\n",
      "['Chilindrin', 'Brenda', 'Mimi', 'Goose', 'Oti']\n"
     ]
    }
   ],
   "source": [
    "# 12 - Reemplazar un elemento en una lista\n",
    "# Descripción: Dada una lista, reemplaza el segundo elemento con un nuevo valor.\n",
    "lista_gatos=['Chilindrin','Mimi','Goose','Oti']\n",
    "print(lista_gatos)\n",
    "lista_gatos.insert(1,'Brenda')\n",
    "print(lista_gatos)"
   ]
  },
  {
   "cell_type": "code",
   "execution_count": 15,
   "metadata": {},
   "outputs": [
    {
     "name": "stdout",
     "output_type": "stream",
     "text": [
      "['Chilindrin', 'Brenda', 'Mimi', 'Goose', 'Oti']\n",
      "['Chilindrin', 'Brenda', 'Mimi', 'Goose', 'Oti']\n",
      "['Oti', 'Goose', 'Mimi', 'Brenda', 'Chilindrin']\n"
     ]
    }
   ],
   "source": [
    "# 13 - Obtener una lista inversa\n",
    "# Descripción: Dada una lista, obtén una nueva lista que contenga los elementos en orden inverso\n",
    "lista_gatos = ['Chilindrin', 'Brenda', 'Mimi', 'Goose', 'Oti']\n",
    "print(lista_gatos)\n",
    "lista_in=lista_gatos.copy()\n",
    "print(lista_in)\n",
    "lista_in.reverse()\n",
    "print(lista_in)"
   ]
  },
  {
   "cell_type": "code",
   "execution_count": 16,
   "metadata": {},
   "outputs": [
    {
     "name": "stdout",
     "output_type": "stream",
     "text": [
      "[98, 6, 712, 73, 48, 3]\n",
      "[3, 6, 48, 73, 98, 712]\n"
     ]
    }
   ],
   "source": [
    "# 14 - Ordenar una lista en orden ascendente\n",
    "# Descripción: Dada una lista de números, ordénala en orden ascendente\n",
    "lista_numeros = [98,6,712,73,48,3]\n",
    "print(lista_numeros)\n",
    "lista_numeros.sort()\n",
    "print(lista_numeros)"
   ]
  },
  {
   "cell_type": "markdown",
   "metadata": {},
   "source": [
    "### EJERCICIOS DE TUPLAS ### "
   ]
  },
  {
   "cell_type": "code",
   "execution_count": 17,
   "metadata": {},
   "outputs": [
    {
     "data": {
      "text/plain": [
       "'lunes'"
      ]
     },
     "execution_count": 17,
     "metadata": {},
     "output_type": "execute_result"
    }
   ],
   "source": [
    "# 1- Acceder al primer elemento de una tupla\n",
    "# Descripción: Dada una tupla, obtén el primer elemento.\n",
    "tupla1_semana= ('lunes','martes','mx','jueves','viernes','sábado','domingo')\n",
    "tupla1_semana[0]"
   ]
  },
  {
   "cell_type": "code",
   "execution_count": 18,
   "metadata": {},
   "outputs": [
    {
     "data": {
      "text/plain": [
       "'domingo'"
      ]
     },
     "execution_count": 18,
     "metadata": {},
     "output_type": "execute_result"
    }
   ],
   "source": [
    "# 2- Acceder al último elemento de una tupla\n",
    "# Descripción: Dada una tupla, obtén el último elemento\n",
    "tupla1_semana[-1]"
   ]
  },
  {
   "cell_type": "code",
   "execution_count": 19,
   "metadata": {},
   "outputs": [
    {
     "data": {
      "text/plain": [
       "7"
      ]
     },
     "execution_count": 19,
     "metadata": {},
     "output_type": "execute_result"
    }
   ],
   "source": [
    "# 3 - Obtener la longitud de una tupla\n",
    "# Descripción: Dada una tupla, obtén la cantidad de elementos que contiene.\n",
    "len(tupla1_semana)"
   ]
  },
  {
   "cell_type": "code",
   "execution_count": 20,
   "metadata": {},
   "outputs": [
    {
     "name": "stdout",
     "output_type": "stream",
     "text": [
      "('lunes', 'martes', 'mx', 'jueves', 'viernes', 'sábado', 'domingo', 1, 2, 3, 4, 5, 6, 7)\n"
     ]
    }
   ],
   "source": [
    "# 4 - Concatenar dos tuplas \n",
    "# Descripción: Dadas dos tuplas, crea una nueva tupla que contenga todos los elementos de ambas tuplas\n",
    "dias_semana=(1,2,3,4,5,6,7)\n",
    "semana = (tupla1_semana+dias_semana)\n",
    "print(semana)"
   ]
  },
  {
   "cell_type": "code",
   "execution_count": 21,
   "metadata": {},
   "outputs": [
    {
     "name": "stdout",
     "output_type": "stream",
     "text": [
      "('lunes', 'martes', 'mx', 'jueves', 'viernes', 'sábado', 'domingo')\n"
     ]
    },
    {
     "data": {
      "text/plain": [
       "0"
      ]
     },
     "execution_count": 21,
     "metadata": {},
     "output_type": "execute_result"
    }
   ],
   "source": [
    "# 5 - Encontrar el índice de un elemento en una tupla\n",
    "# Descripción: Dada una tupla y un valor objetivo, encuentra el índice del primer elemento que coincida con el valor objetivo\n",
    "print(tupla1_semana)\n",
    "tupla1_semana.index('lunes')"
   ]
  },
  {
   "cell_type": "code",
   "execution_count": 22,
   "metadata": {},
   "outputs": [
    {
     "data": {
      "text/plain": [
       "1"
      ]
     },
     "execution_count": 22,
     "metadata": {},
     "output_type": "execute_result"
    }
   ],
   "source": [
    "# 6 -Contar ocurrencias de un elemento en una tupla\n",
    "# Descripción: Dada una tupla y un valor objetivo, cuenta cuántas veces aparece el valor objetivo en la tupla.\n",
    "tupla1_semana.count('lunes')"
   ]
  },
  {
   "cell_type": "code",
   "execution_count": 23,
   "metadata": {},
   "outputs": [
    {
     "name": "stdout",
     "output_type": "stream",
     "text": [
      "('martes', 'mx')\n"
     ]
    }
   ],
   "source": [
    "# 7 - Obtener una subtuple de una tupla\n",
    "# Descripción: Dada una tupla, crea una nueva tupla que contenga los elementos desde el índice 1 hasta el índice 3 (sin incluirlo)\n",
    "tupla2_semana=tupla1_semana[1:3]\n",
    "print(tupla2_semana)"
   ]
  },
  {
   "cell_type": "code",
   "execution_count": 24,
   "metadata": {},
   "outputs": [
    {
     "name": "stdout",
     "output_type": "stream",
     "text": [
      "['domingo', 'sábado', 'viernes', 'jueves', 'mx', 'martes', 'lunes']\n"
     ]
    },
    {
     "data": {
      "text/plain": [
       "('domingo', 'sábado', 'viernes', 'jueves', 'mx', 'martes', 'lunes')"
      ]
     },
     "execution_count": 24,
     "metadata": {},
     "output_type": "execute_result"
    }
   ],
   "source": [
    "# 8 - Invertir una tupla\n",
    "# Descripción: Dada una tupla, inviértela en orden.\n",
    "tupla1_semana\n",
    "lista_semana = list(tupla1_semana)\n",
    "lista_semana.reverse()\n",
    "print(lista_semana)\n",
    "tuple(lista_semana)"
   ]
  }
 ],
 "metadata": {
  "kernelspec": {
   "display_name": "base",
   "language": "python",
   "name": "python3"
  },
  "language_info": {
   "codemirror_mode": {
    "name": "ipython",
    "version": 3
   },
   "file_extension": ".py",
   "mimetype": "text/x-python",
   "name": "python",
   "nbconvert_exporter": "python",
   "pygments_lexer": "ipython3",
   "version": "3.9.12"
  }
 },
 "nbformat": 4,
 "nbformat_minor": 2
}
