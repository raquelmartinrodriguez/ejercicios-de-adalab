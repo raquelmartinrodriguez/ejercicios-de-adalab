{
 "cells": [
  {
   "cell_type": "markdown",
   "metadata": {},
   "source": [
    "# Ejercicios:\n",
    "\n",
    "- Definir tuplas\n",
    "\n",
    "  1. Crea una tupla `persona1` para juntar los siguientes datos: 61 kg, 1.54 m altura, pelo marrón, sin usar paréntesis. (Serán del tipo `int`, `float` y `str`.)"
   ]
  },
  {
   "cell_type": "code",
   "execution_count": 3,
   "metadata": {},
   "outputs": [
    {
     "data": {
      "text/plain": [
       "tuple"
      ]
     },
     "execution_count": 3,
     "metadata": {},
     "output_type": "execute_result"
    }
   ],
   "source": [
    "persona1 = 61, 1.54, 'pelo marrón'\n",
    "type(persona1)"
   ]
  },
  {
   "cell_type": "markdown",
   "metadata": {},
   "source": [
    " 2. Crea una tupla para la `persona2` de 68 kg, 1.65 m y pelo rubio, usando paréntesis."
   ]
  },
  {
   "cell_type": "code",
   "execution_count": 4,
   "metadata": {},
   "outputs": [
    {
     "data": {
      "text/plain": [
       "tuple"
      ]
     },
     "execution_count": 4,
     "metadata": {},
     "output_type": "execute_result"
    }
   ],
   "source": [
    "persona2 = (68, 1.65, 'pelo rubio')\n",
    "type (persona2)"
   ]
  },
  {
   "cell_type": "markdown",
   "metadata": {},
   "source": [
    " 3. Crea una lista `talla` que recompila 'M', 42, y 39. \n"
   ]
  },
  {
   "cell_type": "code",
   "execution_count": 5,
   "metadata": {},
   "outputs": [
    {
     "data": {
      "text/plain": [
       "list"
      ]
     },
     "execution_count": 5,
     "metadata": {},
     "output_type": "execute_result"
    }
   ],
   "source": [
    "talla_M = [42, 39]\n",
    "type (talla_M)"
   ]
  },
  {
   "cell_type": "markdown",
   "metadata": {},
   "source": [
    "- Convertir y juntar\n",
    "\n",
    "  4. Convierte la lista `talla` a una tupla."
   ]
  },
  {
   "cell_type": "code",
   "execution_count": 8,
   "metadata": {},
   "outputs": [
    {
     "data": {
      "text/plain": [
       "tuple"
      ]
     },
     "execution_count": 8,
     "metadata": {},
     "output_type": "execute_result"
    }
   ],
   "source": [
    "tupla_talla_M = tuple (talla_M)\n",
    "type (tupla_talla_M)"
   ]
  },
  {
   "cell_type": "markdown",
   "metadata": {},
   "source": [
    "5. Une a la tupla de `persona1` los datos en `talla`, para tener una única tupla."
   ]
  },
  {
   "cell_type": "code",
   "execution_count": 12,
   "metadata": {},
   "outputs": [
    {
     "data": {
      "text/plain": [
       "tuple"
      ]
     },
     "execution_count": 12,
     "metadata": {},
     "output_type": "execute_result"
    }
   ],
   "source": [
    "tupla_persona_1 = (persona1 + tupla_talla_M)\n",
    "type (tupla_persona_1)\n"
   ]
  },
  {
   "cell_type": "markdown",
   "metadata": {},
   "source": [
    "- Indexar tuplas\n",
    "\n",
    "  6. Saca de `persona2` el contenido del tercer elemento y llámalo `color`."
   ]
  },
  {
   "cell_type": "code",
   "execution_count": 16,
   "metadata": {},
   "outputs": [
    {
     "name": "stdout",
     "output_type": "stream",
     "text": [
      "Sacamos el tercer elemento de la lista: [2] = pelo rubio\n",
      "pelo rubio\n"
     ]
    }
   ],
   "source": [
    "print('Sacamos el tercer elemento de la lista: [2] =',persona2[2])\n",
    "color = persona2 [2]\n",
    "print (color)"
   ]
  },
  {
   "cell_type": "markdown",
   "metadata": {},
   "source": [
    "7. ¿Cuántos elementos hay ahora en `persona1`? (Es decir, ¿cuál es su longitud?)"
   ]
  },
  {
   "cell_type": "code",
   "execution_count": 21,
   "metadata": {},
   "outputs": [
    {
     "data": {
      "text/plain": [
       "3"
      ]
     },
     "execution_count": 21,
     "metadata": {},
     "output_type": "execute_result"
    }
   ],
   "source": [
    "len (persona1)"
   ]
  },
  {
   "cell_type": "markdown",
   "metadata": {},
   "source": [
    "- Desempaquetar\n",
    "\n",
    "  8. Crea las variables `peso`, `altura`, `color_pelo` y llénalas con el contenido de `persona1`. Imprime `color_pelo` para comprobar el resultado. "
   ]
  },
  {
   "cell_type": "code",
   "execution_count": 23,
   "metadata": {},
   "outputs": [
    {
     "name": "stdout",
     "output_type": "stream",
     "text": [
      "pelo marrón\n"
     ]
    }
   ],
   "source": [
    "peso = persona1 [0]\n",
    "altura = persona1 [1]\n",
    "color_pelo = persona1 [2]\n",
    "print (color_pelo)"
   ]
  },
  {
   "cell_type": "markdown",
   "metadata": {},
   "source": [
    "- Zipear\n",
    "\n",
    "  9. Crea el zip `personas` con `persona1` y `persona2`.\n"
   ]
  },
  {
   "cell_type": "code",
   "execution_count": 32,
   "metadata": {},
   "outputs": [
    {
     "name": "stdout",
     "output_type": "stream",
     "text": [
      "(61, 1.54, 'pelo marrón')\n",
      "(68, 1.65, 'pelo rubio')\n",
      "<zip object at 0x7fab2c094840>\n"
     ]
    },
    {
     "data": {
      "text/plain": [
       "[(61, 68), (1.54, 1.65), ('pelo marrón', 'pelo rubio')]"
      ]
     },
     "execution_count": 32,
     "metadata": {},
     "output_type": "execute_result"
    }
   ],
   "source": [
    "print (persona1)\n",
    "print (persona2)\n",
    "personas = zip (persona1, persona2)\n",
    "print (personas)\n",
    "list (personas)"
   ]
  },
  {
   "cell_type": "markdown",
   "metadata": {},
   "source": [
    "10. ¿Cuántas \"elementos\" tiene `personas`? ¿Por qué?"
   ]
  },
  {
   "cell_type": "code",
   "execution_count": 37,
   "metadata": {},
   "outputs": [
    {
     "data": {
      "text/plain": [
       "0"
      ]
     },
     "execution_count": 37,
     "metadata": {},
     "output_type": "execute_result"
    }
   ],
   "source": [
    "list_personas= list (personas)\n",
    "len(list_personas)\n",
    "#no le entiendo"
   ]
  },
  {
   "cell_type": "markdown",
   "metadata": {},
   "source": [
    "11. Crea una tupla `etiquetas` con `'peso'`, `'altura'`, y `'color_pelo'`."
   ]
  },
  {
   "cell_type": "code",
   "execution_count": 41,
   "metadata": {},
   "outputs": [
    {
     "data": {
      "text/plain": [
       "tuple"
      ]
     },
     "execution_count": 41,
     "metadata": {},
     "output_type": "execute_result"
    }
   ],
   "source": [
    "etiquetas =('peso', 'altura', 'color_pelo')\n",
    "type (etiquetas)"
   ]
  },
  {
   "cell_type": "markdown",
   "metadata": {},
   "source": [
    "12. Crea al zip de `etiquetas`, `persona1`, y `persona2`, llamado \"todo\".\n"
   ]
  },
  {
   "cell_type": "code",
   "execution_count": 44,
   "metadata": {},
   "outputs": [
    {
     "name": "stdout",
     "output_type": "stream",
     "text": [
      "(('peso', 'altura', 'color_pelo'), (61, 1.54, 'pelo marrón'), (68, 1.65, 'pelo rubio'))\n"
     ]
    }
   ],
   "source": [
    "todo = (etiquetas, persona1, persona2)\n",
    "print (todo)"
   ]
  },
  {
   "cell_type": "markdown",
   "metadata": {},
   "source": [
    "\n",
    "- Manipular zips\n",
    "\n",
    "  13. Ordena las propiedades de la variable `personas` alfabéticamente. ¿Puedes? ¿Por qué?\n"
   ]
  },
  {
   "cell_type": "code",
   "execution_count": 52,
   "metadata": {},
   "outputs": [
    {
     "name": "stdout",
     "output_type": "stream",
     "text": [
      "<zip object at 0x7fab2c094840>\n"
     ]
    },
    {
     "data": {
      "text/plain": [
       "zip"
      ]
     },
     "execution_count": 52,
     "metadata": {},
     "output_type": "execute_result"
    }
   ],
   "source": [
    "print (personas)\n",
    "type (personas)\n",
    "#no se puede porque esté en zip. Tendríamos que pasarlo a lista\n",
    "\n"
   ]
  }
 ],
 "metadata": {
  "kernelspec": {
   "display_name": "base",
   "language": "python",
   "name": "python3"
  },
  "language_info": {
   "codemirror_mode": {
    "name": "ipython",
    "version": 3
   },
   "file_extension": ".py",
   "mimetype": "text/x-python",
   "name": "python",
   "nbconvert_exporter": "python",
   "pygments_lexer": "ipython3",
   "version": "3.9.12"
  }
 },
 "nbformat": 4,
 "nbformat_minor": 2
}
