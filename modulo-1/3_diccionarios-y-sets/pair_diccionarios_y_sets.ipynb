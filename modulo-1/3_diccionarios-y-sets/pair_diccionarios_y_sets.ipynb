{
 "cells": [
  {
   "cell_type": "markdown",
   "metadata": {},
   "source": [
    "## Ejercicios diccionarios"
   ]
  },
  {
   "cell_type": "markdown",
   "metadata": {},
   "source": [
    "1. Crear un diccionario vacío\n",
    "\n",
    "    Descripción: Crea un diccionario vacío sin ningún par clave-valor."
   ]
  },
  {
   "cell_type": "code",
   "execution_count": 1,
   "metadata": {},
   "outputs": [],
   "source": [
    "vehiculos ={}"
   ]
  },
  {
   "cell_type": "markdown",
   "metadata": {},
   "source": [
    "2- Crear un diccionario con elementos\n",
    "\n",
    "        Descripción: Crea un diccionario con pares clave-valor predefinidos. Definir el diccionario con las claves y valores que querais. NOTA El diccionario debe tener al menos 5 pares de clave:valor.\n"
   ]
  },
  {
   "cell_type": "code",
   "execution_count": 2,
   "metadata": {},
   "outputs": [
    {
     "name": "stdout",
     "output_type": "stream",
     "text": [
      "{'audi': 'a5', 'mercedes': 'vito', 'peugeot': '208', 'citroen': 'jumper', 'volkswagen': 'golf'}\n"
     ]
    }
   ],
   "source": [
    "vehiculos ={'audi':'a5', 'mercedes':'vito', 'peugeot':'208', 'citroen': 'jumper', 'volkswagen':'golf'}\n",
    "print (vehiculos)\n",
    "vehiculos2 = vehiculos.copy ()"
   ]
  },
  {
   "cell_type": "markdown",
   "metadata": {},
   "source": [
    "3 -Acceder al valor de una clave en un diccionario.\n",
    "\n",
    "    Descripción: Usando el diccionario creado en el paso anterior, obtén el valor correspondiente a una clave específica que indique el usuario (debereis usar la función input() para preguntar al usuario)"
   ]
  },
  {
   "cell_type": "code",
   "execution_count": 3,
   "metadata": {},
   "outputs": [
    {
     "name": "stdout",
     "output_type": "stream",
     "text": [
      "¿cúal se llama el modelo de audi?\n",
      "a5\n"
     ]
    }
   ],
   "source": [
    "print ('¿cúal se llama el modelo de audi?')\n",
    "nombre = input ('audi')\n",
    "print (nombre)"
   ]
  },
  {
   "cell_type": "markdown",
   "metadata": {},
   "source": [
    "4. Agregar un nuevo par clave-valor a un diccionario.\n",
    "\n",
    "    Descripción: Usando el diccionario creado en el ejercicio 2, agrega un nuevo par clave-valor."
   ]
  },
  {
   "cell_type": "code",
   "execution_count": 4,
   "metadata": {},
   "outputs": [
    {
     "name": "stdout",
     "output_type": "stream",
     "text": [
      "{'audi': 'a5', 'mercedes': 'vito', 'peugeot': '208', 'citroen': 'jumper', 'volkswagen': 'golf'}\n",
      "{'audi': 'a5', 'mercedes': 'vito', 'peugeot': '208', 'citroen': 'jumper', 'volkswagen': 'golf', 'renault': 'twingo'}\n"
     ]
    }
   ],
   "source": [
    "print (vehiculos)\n",
    "vehiculos2 = vehiculos.copy()\n",
    "nuevo_vehiculo = {'renault':'twingo'}\n",
    "vehiculos.update(nuevo_vehiculo)\n",
    "print (vehiculos)\n"
   ]
  },
  {
   "cell_type": "markdown",
   "metadata": {},
   "source": [
    "5. Actualizar el valor de una clave en un diccionario\n",
    "\n",
    "Descripción: Usando el diccionario creado en el ejercicio 2, actualiza el valor correspondiente a una clave existente. Ejemplo:\n",
    "dado el siguiente diccionario\n",
    "{'nombre': 'Ana', 'edad': 25, 'ciudad': 'Madrid', 'hijos': 1}\n",
    " el ouptut esperado es: (ha cambiado el valor de la clave edad)\n",
    "{'nombre': 'Ana', 'edad': 40, 'ciudad': 'Madrid', 'hijos': 1}"
   ]
  },
  {
   "cell_type": "code",
   "execution_count": 5,
   "metadata": {},
   "outputs": [
    {
     "name": "stdout",
     "output_type": "stream",
     "text": [
      "{'audi': 'a5', 'mercedes': 'vito', 'peugeot': '208', 'citroen': 'jumper', 'volkswagen': 'golf', 'renault': 'twingo'}\n",
      "{'audi': 'a5', 'mercedes': 'vito', 'peugeot': '208', 'citroen': 'berlingo', 'volkswagen': 'golf', 'renault': 'twingo'}\n"
     ]
    }
   ],
   "source": [
    "print (vehiculos)\n",
    "vehiculos['citroen']='berlingo'\n",
    "print (vehiculos)"
   ]
  },
  {
   "cell_type": "markdown",
   "metadata": {},
   "source": [
    "Eliminar un par clave-valor de un diccionario\n",
    "Descripción: Usando el diccionario creado en el ejercicio 2, elimina un par clave-valor específico que indique el usuario (debereis usar la función input() para preguntar al usuario)."
   ]
  },
  {
   "cell_type": "code",
   "execution_count": 8,
   "metadata": {},
   "outputs": [
    {
     "name": "stdout",
     "output_type": "stream",
     "text": [
      "{'audi': 'a5', 'mercedes': 'vito', 'peugeot': '208', 'citroen': 'jumper', 'volkswagen': 'golf'}\n",
      "¿qué vehiculo desea eliminar?\n"
     ]
    },
    {
     "data": {
      "text/plain": [
       "'a5'"
      ]
     },
     "execution_count": 8,
     "metadata": {},
     "output_type": "execute_result"
    }
   ],
   "source": [
    "print (vehiculos2)\n",
    "print ('¿qué vehiculo desea eliminar?')\n",
    "eliminar =input ()\n",
    "vehiculos2.pop (input())\n"
   ]
  },
  {
   "cell_type": "code",
   "execution_count": 9,
   "metadata": {},
   "outputs": [
    {
     "name": "stdout",
     "output_type": "stream",
     "text": [
      "{'mercedes': 'vito', 'peugeot': '208', 'citroen': 'jumper', 'volkswagen': 'golf'}\n"
     ]
    }
   ],
   "source": [
    "print (vehiculos2)"
   ]
  },
  {
   "cell_type": "markdown",
   "metadata": {},
   "source": [
    "7. Verificar si una clave está presente en un diccionario\n",
    "Descripción: Usando el diccionario creado en el ejercicio 2, verifica si una clave específica está presente en él. La clave a buscar debe ser pasada por el usuario, debereis usar un input()"
   ]
  },
  {
   "cell_type": "code",
   "execution_count": 10,
   "metadata": {},
   "outputs": [
    {
     "name": "stdout",
     "output_type": "stream",
     "text": [
      "{'mercedes': 'vito', 'peugeot': '208', 'citroen': 'jumper', 'volkswagen': 'golf'}\n",
      "¿qué vehiculo quiere localizar?\n",
      "dict_keys(['mercedes', 'peugeot', 'citroen', 'volkswagen'])\n"
     ]
    },
    {
     "data": {
      "text/plain": [
       "True"
      ]
     },
     "execution_count": 10,
     "metadata": {},
     "output_type": "execute_result"
    }
   ],
   "source": [
    "print (vehiculos2)\n",
    "print ('¿qué vehiculo quiere localizar?')\n",
    "localizar = input ()\n",
    "print (vehiculos2.keys())\n",
    "input () in vehiculos2\n",
    "\n"
   ]
  },
  {
   "cell_type": "code",
   "execution_count": 11,
   "metadata": {},
   "outputs": [
    {
     "name": "stdout",
     "output_type": "stream",
     "text": [
      "{'mercedes': 'vito', 'peugeot': '208', 'citroen': 'jumper', 'volkswagen': 'golf'}\n"
     ]
    }
   ],
   "source": [
    "print (vehiculos2)"
   ]
  },
  {
   "cell_type": "markdown",
   "metadata": {},
   "source": [
    "8 - Obtener una lista de todas las claves de un diccionario\n",
    "Descripción: Usando el diccionario creado en el ejercicio 2, obtén una lista con todas las claves que contiene."
   ]
  },
  {
   "cell_type": "code",
   "execution_count": 12,
   "metadata": {},
   "outputs": [
    {
     "name": "stdout",
     "output_type": "stream",
     "text": [
      "dict_keys(['mercedes', 'peugeot', 'citroen', 'volkswagen'])\n"
     ]
    },
    {
     "data": {
      "text/plain": [
       "['mercedes', 'peugeot', 'citroen', 'volkswagen']"
      ]
     },
     "execution_count": 12,
     "metadata": {},
     "output_type": "execute_result"
    }
   ],
   "source": [
    "print (vehiculos2.keys())\n",
    "list (vehiculos2.keys ())"
   ]
  },
  {
   "cell_type": "markdown",
   "metadata": {},
   "source": [
    "9 -Obtener una lista de todos los valores de un diccionario\n",
    "Descripción: Usando el diccionario creado en el ejercicio 2, obtén una lista con todos los valores que contiene."
   ]
  },
  {
   "cell_type": "code",
   "execution_count": 13,
   "metadata": {},
   "outputs": [
    {
     "name": "stdout",
     "output_type": "stream",
     "text": [
      "dict_values(['vito', '208', 'jumper', 'golf'])\n"
     ]
    },
    {
     "data": {
      "text/plain": [
       "['vito', '208', 'jumper', 'golf']"
      ]
     },
     "execution_count": 13,
     "metadata": {},
     "output_type": "execute_result"
    }
   ],
   "source": [
    "print (vehiculos2.values())\n",
    "list (vehiculos2.values())"
   ]
  },
  {
   "cell_type": "markdown",
   "metadata": {},
   "source": [
    "10 -Utilizar el método setdefault() para establecer un valor predeterminado. \n",
    "Descripción: Usando el diccionario creado en el ejercicio 2, obten el valor correspondiente a una clave. Si la clave no existe, establece un valor predeterminado y devuelve dicho valor"
   ]
  },
  {
   "cell_type": "code",
   "execution_count": 14,
   "metadata": {},
   "outputs": [
    {
     "name": "stdout",
     "output_type": "stream",
     "text": [
      "None\n",
      "model s\n",
      "{'mercedes': 'vito', 'peugeot': '208', 'citroen': 'jumper', 'volkswagen': 'golf', 'tesla': 'model s'}\n"
     ]
    }
   ],
   "source": [
    "vehiculos2.get ('tesla')\n",
    "print (vehiculos2.get ('tesla'))\n",
    "print (vehiculos2.setdefault ('tesla', 'model s'))\n",
    "print (vehiculos2)"
   ]
  },
  {
   "cell_type": "markdown",
   "metadata": {},
   "source": [
    "11. Manipulación de un diccionario utilizando pop() y popitem()\n",
    "Descripción: Usando el diccionario creado en el ejercicio 2, realiza operaciones de eliminación utilizando pop() y popitem(), y observa cómo afectan al diccionario"
   ]
  },
  {
   "cell_type": "code",
   "execution_count": 16,
   "metadata": {},
   "outputs": [
    {
     "name": "stdout",
     "output_type": "stream",
     "text": [
      "{'mercedes': 'vito', 'peugeot': '208', 'citroen': 'jumper', 'volkswagen': 'golf', 'tesla': 'model s'}\n",
      "jumper\n"
     ]
    }
   ],
   "source": [
    "print (vehiculos2)\n",
    "print (vehiculos2.pop('citroen'))\n"
   ]
  },
  {
   "cell_type": "code",
   "execution_count": 17,
   "metadata": {},
   "outputs": [
    {
     "name": "stdout",
     "output_type": "stream",
     "text": [
      "('tesla', 'model s')\n"
     ]
    }
   ],
   "source": [
    "print (vehiculos2.popitem())"
   ]
  },
  {
   "cell_type": "code",
   "execution_count": 34,
   "metadata": {},
   "outputs": [
    {
     "name": "stdout",
     "output_type": "stream",
     "text": [
      "{'mercedes': 'vito', 'peugeot': '208', 'volkswagen': 'golf'}\n"
     ]
    }
   ],
   "source": [
    "print (vehiculos2)"
   ]
  },
  {
   "cell_type": "markdown",
   "metadata": {},
   "source": [
    "## Ejercicios sets"
   ]
  },
  {
   "cell_type": "markdown",
   "metadata": {},
   "source": [
    "1. Crear un conjunto vacío.\n",
    "\n",
    "Descripción: Crea un conjunto vacío sin ningún elemento."
   ]
  },
  {
   "cell_type": "code",
   "execution_count": 81,
   "metadata": {},
   "outputs": [],
   "source": [
    "#no entendemos"
   ]
  },
  {
   "cell_type": "markdown",
   "metadata": {},
   "source": [
    "2. Crear un conjunto con elementos.\n",
    "\n",
    "    Descripción, crea un conjunto con elemnetos"
   ]
  },
  {
   "cell_type": "code",
   "execution_count": 68,
   "metadata": {},
   "outputs": [
    {
     "data": {
      "text/plain": [
       "{'armario', 'escritorio', 'mesa', 'silla'}"
      ]
     },
     "execution_count": 68,
     "metadata": {},
     "output_type": "execute_result"
    }
   ],
   "source": [
    "\n",
    "set_muebles= {\"silla\",\"mesa\",\"armario\",\"escritorio\"}\n",
    "set_muebles\n"
   ]
  },
  {
   "cell_type": "markdown",
   "metadata": {},
   "source": [
    "3. Agregar elementos a un conjunto.\n",
    "\n",
    "    Descripción: Usando el set creado en el ejercicio 2, agrega nuevos elementos. Debereis agregar por separado:"
   ]
  },
  {
   "cell_type": "code",
   "execution_count": 69,
   "metadata": {},
   "outputs": [
    {
     "name": "stdout",
     "output_type": "stream",
     "text": [
      "{'silla', 'mesa', 'armario', 'escritorio'}\n",
      "{'mesa', 'escritorio', 'sofá', 'silla', 'armario'}\n"
     ]
    }
   ],
   "source": [
    "# Un elemento solo.\n",
    "print(set_muebles)\n",
    "set_muebles.add(\"sofá\")\n",
    "print(set_muebles)"
   ]
  },
  {
   "cell_type": "code",
   "execution_count": 70,
   "metadata": {},
   "outputs": [
    {
     "name": "stdout",
     "output_type": "stream",
     "text": [
      "{'mesa', 'escritorio', 'cama', 'mesilla de noche', 'sofá', 'silla', 'armario'}\n"
     ]
    }
   ],
   "source": [
    "#Un par de elementos a la vez\n",
    "nuevo_mueble=[\"cama\",\"mesilla de noche\"]\n",
    "set_muebles.update(nuevo_mueble)\n",
    "print(set_muebles)"
   ]
  },
  {
   "cell_type": "markdown",
   "metadata": {},
   "source": [
    "   4. Eliminar un elemento de un conjunto.\n",
    "\n",
    "    Descripción: Usando el set creado en el ejercicio 2, elimina un elemento especificado por el usuario."
   ]
  },
  {
   "cell_type": "code",
   "execution_count": 71,
   "metadata": {},
   "outputs": [],
   "source": [
    "# 4 Eliminamos \"cama\"\n",
    "set_muebles.remove(input())"
   ]
  },
  {
   "cell_type": "code",
   "execution_count": 72,
   "metadata": {},
   "outputs": [
    {
     "name": "stdout",
     "output_type": "stream",
     "text": [
      "{'mesa', 'escritorio', 'mesilla de noche', 'sofá', 'silla', 'armario'}\n"
     ]
    }
   ],
   "source": [
    "print (set_muebles)"
   ]
  },
  {
   "cell_type": "markdown",
   "metadata": {},
   "source": [
    "5. Verificar la pertenencia de un elemento en un conjunto.\n",
    "\n",
    "    Descripción: Usando el set creado en el ejercicio 2, verifica si un elemento específico está presente en él."
   ]
  },
  {
   "cell_type": "code",
   "execution_count": 73,
   "metadata": {},
   "outputs": [
    {
     "name": "stdout",
     "output_type": "stream",
     "text": [
      "False\n",
      "True\n"
     ]
    }
   ],
   "source": [
    "print(\"cama\"in set_muebles)\n",
    "print(\"mesilla de noche\" in set_muebles)"
   ]
  },
  {
   "cell_type": "markdown",
   "metadata": {},
   "source": [
    "6. Realizar una unión de conjuntos\n",
    "\n",
    "    Descripción: Dados dos conjuntos, realiza una unión de ellos."
   ]
  },
  {
   "cell_type": "code",
   "execution_count": 74,
   "metadata": {},
   "outputs": [
    {
     "data": {
      "text/plain": [
       "{'hierro', 'madera', 'plástico', 'vidrio', 'yeso'}"
      ]
     },
     "execution_count": 74,
     "metadata": {},
     "output_type": "execute_result"
    }
   ],
   "source": [
    "set_material={\"madera\",\"hierro\",\"plástico\"}\n",
    "set_material2={\"plástico\",\"vidrio\",\"yeso\"}\n",
    "set_material.union(set_material2)"
   ]
  },
  {
   "cell_type": "markdown",
   "metadata": {},
   "source": [
    "7. Realizar una intersección de conjuntos\n",
    "\n",
    "    Descripción: Usando dos conjuntos de datos definidos en el ejercicio anterior, realiza una intersección de ellos."
   ]
  },
  {
   "cell_type": "code",
   "execution_count": 75,
   "metadata": {},
   "outputs": [
    {
     "data": {
      "text/plain": [
       "{'plástico'}"
      ]
     },
     "execution_count": 75,
     "metadata": {},
     "output_type": "execute_result"
    }
   ],
   "source": [
    "set_material.intersection(set_material2)"
   ]
  },
  {
   "cell_type": "markdown",
   "metadata": {},
   "source": [
    "8. Realizar una diferencia de conjuntos\n",
    "\n",
    "    Descripción: Usando dos conjuntos de datos definidos en el ejercicio anterior, realiza una diferencia entre ellos."
   ]
  },
  {
   "cell_type": "code",
   "execution_count": 76,
   "metadata": {},
   "outputs": [
    {
     "name": "stdout",
     "output_type": "stream",
     "text": [
      "{'hierro', 'madera'}\n"
     ]
    }
   ],
   "source": [
    "set_diferencia=set_material.difference(set_material2)\n",
    "print(set_diferencia)"
   ]
  },
  {
   "cell_type": "markdown",
   "metadata": {},
   "source": [
    "9. Verificar si un conjunto es subconjunto de otro\n",
    "\n",
    "    Descripción: Dados dos conjuntos, verifica si uno es subconjunto del otro."
   ]
  },
  {
   "cell_type": "code",
   "execution_count": 77,
   "metadata": {},
   "outputs": [
    {
     "data": {
      "text/plain": [
       "True"
      ]
     },
     "execution_count": 77,
     "metadata": {},
     "output_type": "execute_result"
    }
   ],
   "source": [
    "set_a={\"a\",\"b\",\"c\",\"d\",\"e\"}\n",
    "set_b={\"c\",\"d\"}\n",
    "set_b.issubset(set_a)"
   ]
  }
 ],
 "metadata": {
  "kernelspec": {
   "display_name": "base",
   "language": "python",
   "name": "python3"
  },
  "language_info": {
   "codemirror_mode": {
    "name": "ipython",
    "version": 3
   },
   "file_extension": ".py",
   "mimetype": "text/x-python",
   "name": "python",
   "nbconvert_exporter": "python",
   "pygments_lexer": "ipython3",
   "version": "3.9.12"
  }
 },
 "nbformat": 4,
 "nbformat_minor": 2
}
